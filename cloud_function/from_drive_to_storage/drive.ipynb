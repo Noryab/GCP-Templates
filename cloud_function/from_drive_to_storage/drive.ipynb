{
 "cells": [
  {
   "cell_type": "code",
   "execution_count": 16,
   "metadata": {},
   "outputs": [],
   "source": [
    "os.environ[\"GOOGLE_APPLICATION_CREDENTIALS\"] = \"/home/portfolio/GCP-Templates/cloud_function/from_drive_to_storage/function/credentials.json\"\n"
   ]
  },
  {
   "cell_type": "code",
   "execution_count": 17,
   "metadata": {},
   "outputs": [
    {
     "name": "stdout",
     "output_type": "stream",
     "text": [
      "Please visit this URL to authorize this application: https://accounts.google.com/o/oauth2/auth?response_type=code&client_id=318040672941-jbi4pi3rhckhlcpv5cp32v0c01lofqml.apps.googleusercontent.com&redirect_uri=http%3A%2F%2Flocalhost%3A56333%2F&scope=https%3A%2F%2Fwww.googleapis.com%2Fauth%2Fdrive&state=PlqggKIUHBOV8J4lKOAv0WYT96pAzb&access_type=offline\n"
     ]
    }
   ],
   "source": [
    "import os\n",
    "from google.oauth2.credentials import Credentials\n",
    "from google_auth_oauthlib.flow import InstalledAppFlow\n",
    "\n",
    "# Define el alcance de acceso requerido por tu aplicación.\n",
    "scopes = ['https://www.googleapis.com/auth/drive']\n",
    "\n",
    "# Define los parámetros de configuración del flujo de autorización de OAuth2.\n",
    "flow = InstalledAppFlow.from_client_secrets_file(\n",
    "    os.environ['GOOGLE_APPLICATION_CREDENTIALS'], scopes=scopes)\n",
    "\n",
    "# Inicia el flujo de autorización de OAuth2 para obtener el token de acceso del usuario.\n",
    "creds = flow.run_local_server(port=0)\n",
    "\n",
    "# Almacenar de manera segura el token de acceso del usuario para su uso posterior.\n",
    "# Por ejemplo, puedes guardar el token en una base de datos o en un archivo protegido.\n"
   ]
  },
  {
   "cell_type": "code",
   "execution_count": 22,
   "metadata": {},
   "outputs": [
    {
     "data": {
      "text/plain": [
       "'1//05zXi_PauPKzuCgYIARAAGAUSNwF-L9IrNDeVmXzQPGZtLbVULCvXisNeIx2g3KnJnArFSiuvn_a56LMzm38aYao0AtThMDF0LXM'"
      ]
     },
     "execution_count": 22,
     "metadata": {},
     "output_type": "execute_result"
    }
   ],
   "source": [
    "creds.refresh_token"
   ]
  },
  {
   "cell_type": "code",
   "execution_count": 23,
   "metadata": {},
   "outputs": [],
   "source": [
    "token = creds.token\n",
    "refresh_token = creds.refresh_token\n",
    "CLIENT_ID = '318040672941-jbi4pi3rhckhlcpv5cp32v0c01lofqml.apps.googleusercontent.com'\n",
    "CLIENT_SECRET = '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'\n",
    "SCOPES = ['https://www.googleapis.com/auth/drive']\n",
    "\n",
    "credentials = Credentials(\n",
    "            token=token,\n",
    "            refresh_token=None,\n",
    "            token_uri=\"https://www.googleapis.com/oauth2/v3/token\", \n",
    "            client_id=CLIENT_ID,\n",
    "            client_secret=CLIENT_SECRET,\n",
    "        )"
   ]
  },
  {
   "cell_type": "code",
   "execution_count": 26,
   "metadata": {},
   "outputs": [
    {
     "data": {
      "text/plain": [
       "[{'mimeType': 'application/vnd.google-apps.folder',\n",
       "  'parents': ['0AE_1lvoLHZoqUk9PVA'],\n",
       "  'id': '1uymD6k_4JTTP4YuTP_NBTAftS4nteU5o',\n",
       "  'name': 'germination_analysis',\n",
       "  'modifiedTime': '2023-03-03T23:34:10.600Z'},\n",
       " {'mimeType': 'text/csv',\n",
       "  'parents': ['0AE_1lvoLHZoqUk9PVA'],\n",
       "  'size': '32036',\n",
       "  'id': '1AlS6e0U9cwnEpN7vLpXV_XUVkL6boFhR',\n",
       "  'name': 'Copia de ABA.csv',\n",
       "  'modifiedTime': '2023-02-28T09:26:39.260Z'},\n",
       " {'mimeType': 'application/vnd.google.colaboratory',\n",
       "  'parents': ['18Bws0xIlNsIbORbADDwDta_448PC6asQ'],\n",
       "  'size': '243468',\n",
       "  'id': '11wt2upRtJCjlxPKdqjb2R37l0re2qw4H',\n",
       "  'name': 'Copy of ANOVA.ipynb',\n",
       "  'modifiedTime': '2023-02-26T01:14:50.126Z'},\n",
       " {'mimeType': 'application/vnd.google.colaboratory',\n",
       "  'size': '810448',\n",
       "  'id': '1DGtQ8eomcULMwc03aWp5h_YakFpfDJH_',\n",
       "  'name': 'ANOVA.ipynb',\n",
       "  'modifiedTime': '2023-02-24T21:05:26.965Z'},\n",
       " {'mimeType': 'text/csv',\n",
       "  'parents': ['1uymD6k_4JTTP4YuTP_NBTAftS4nteU5o'],\n",
       "  'size': '32036',\n",
       "  'id': '1kCoIzOE9Sj3xYporr1CEjXn7_AKwrORp',\n",
       "  'name': 'ABA.csv',\n",
       "  'modifiedTime': '2023-02-22T21:19:10.000Z'}]"
      ]
     },
     "execution_count": 26,
     "metadata": {},
     "output_type": "execute_result"
    }
   ],
   "source": [
    "from google.oauth2.credentials import Credentials\n",
    "from googleapiclient.discovery import build\n",
    "\n",
    "info='ya29.a0AVvZVsp7wif-64G3KGIWpuEBiA_o-CBfaHm0HcmTyOTk9YwXq73maHyXP3OiyUxjCdUEHmKdQdeV6dUyMiWuiMDBrAmGHu06xCGIml2_Uhx6yazAkhQjOUOee5wSeRSIgp54cgVgWA-RqUrFKSVk9gPvYjQ_aCgYKAZASARESFQGbdwaIeDH9kvo87KkZtRR40pgZgw0163'\n",
    "# Crea un objeto Credentials utilizando el token de acceso almacenado.\n",
    "# creds = Credentials.from_authorized_user_info(inf)\n",
    "\n",
    "# Crea un cliente de la API de Google Drive utilizando las credenciales del usuario.\n",
    "drive = build('drive', 'v3', credentials=credentials)\n",
    "\n",
    "# Ahora puedes llamar a cualquier método de la API de Google Drive utilizando el cliente\n",
    "# de la API de Google Drive creado anteriormente.\n",
    "# Por ejemplo, esta función lista todos los archivos en la raíz de Google Drive.\n",
    "def list_files():\n",
    "    results = drive.files().list(q=\"'root' in parents\", fields=\"nextPageToken, files(id, name)\").execute()\n",
    "    items = results.get('files', [])\n",
    "    if not items:\n",
    "        print('No files found.')\n",
    "    else:\n",
    "        print('Files:')\n",
    "        for item in items:\n",
    "            print(f'{item[\"name\"]} ({item[\"id\"]})')\n",
    "results = drive.files().list(\n",
    "        pageSize=5, fields=\"nextPageToken, files(id, name, mimeType, size, parents, modifiedTime)\").execute()\n",
    "    # get the results\n",
    "items = results.get('files', [])\n",
    "    # list all 20 files & folders\n",
    "items            \n"
   ]
  },
  {
   "cell_type": "code",
   "execution_count": 11,
   "metadata": {},
   "outputs": [
    {
     "ename": "OSError",
     "evalue": "[Errno 98] Address already in use",
     "output_type": "error",
     "traceback": [
      "\u001b[0;31m---------------------------------------------------------------------------\u001b[0m",
      "\u001b[0;31mOSError\u001b[0m                                   Traceback (most recent call last)",
      "Cell \u001b[0;32mIn[11], line 1\u001b[0m\n\u001b[0;32m----> 1\u001b[0m flow\u001b[39m.\u001b[39;49mrun_local_server()\n\u001b[1;32m      3\u001b[0m session \u001b[39m=\u001b[39m flow\u001b[39m.\u001b[39mauthorized_session()\n\u001b[1;32m      5\u001b[0m profile_info \u001b[39m=\u001b[39m session\u001b[39m.\u001b[39mget(\n\u001b[1;32m      6\u001b[0m     \u001b[39m'\u001b[39m\u001b[39mhttps://www.googleapis.com/userinfo/v2/me\u001b[39m\u001b[39m'\u001b[39m)\u001b[39m.\u001b[39mjson()\n",
      "File \u001b[0;32m/home/gcp-templates/lib/python3.9/site-packages/google_auth_oauthlib/flow.py:425\u001b[0m, in \u001b[0;36mInstalledAppFlow.run_local_server\u001b[0;34m(self, host, bind_addr, port, authorization_prompt_message, success_message, open_browser, redirect_uri_trailing_slash, timeout_seconds, **kwargs)\u001b[0m\n\u001b[1;32m    423\u001b[0m \u001b[39m# Fail fast if the address is occupied\u001b[39;00m\n\u001b[1;32m    424\u001b[0m wsgiref\u001b[39m.\u001b[39msimple_server\u001b[39m.\u001b[39mWSGIServer\u001b[39m.\u001b[39mallow_reuse_address \u001b[39m=\u001b[39m \u001b[39mFalse\u001b[39;00m\n\u001b[0;32m--> 425\u001b[0m local_server \u001b[39m=\u001b[39m wsgiref\u001b[39m.\u001b[39;49msimple_server\u001b[39m.\u001b[39;49mmake_server(\n\u001b[1;32m    426\u001b[0m     bind_addr \u001b[39mor\u001b[39;49;00m host, port, wsgi_app, handler_class\u001b[39m=\u001b[39;49m_WSGIRequestHandler\n\u001b[1;32m    427\u001b[0m )\n\u001b[1;32m    429\u001b[0m redirect_uri_format \u001b[39m=\u001b[39m (\n\u001b[1;32m    430\u001b[0m     \u001b[39m\"\u001b[39m\u001b[39mhttp://\u001b[39m\u001b[39m{}\u001b[39;00m\u001b[39m:\u001b[39m\u001b[39m{}\u001b[39;00m\u001b[39m/\u001b[39m\u001b[39m\"\u001b[39m \u001b[39mif\u001b[39;00m redirect_uri_trailing_slash \u001b[39melse\u001b[39;00m \u001b[39m\"\u001b[39m\u001b[39mhttp://\u001b[39m\u001b[39m{}\u001b[39;00m\u001b[39m:\u001b[39m\u001b[39m{}\u001b[39;00m\u001b[39m\"\u001b[39m\n\u001b[1;32m    431\u001b[0m )\n\u001b[1;32m    432\u001b[0m \u001b[39mself\u001b[39m\u001b[39m.\u001b[39mredirect_uri \u001b[39m=\u001b[39m redirect_uri_format\u001b[39m.\u001b[39mformat(host, local_server\u001b[39m.\u001b[39mserver_port)\n",
      "File \u001b[0;32m/usr/lib/python3.9/wsgiref/simple_server.py:154\u001b[0m, in \u001b[0;36mmake_server\u001b[0;34m(host, port, app, server_class, handler_class)\u001b[0m\n\u001b[1;32m    150\u001b[0m \u001b[39mdef\u001b[39;00m \u001b[39mmake_server\u001b[39m(\n\u001b[1;32m    151\u001b[0m     host, port, app, server_class\u001b[39m=\u001b[39mWSGIServer, handler_class\u001b[39m=\u001b[39mWSGIRequestHandler\n\u001b[1;32m    152\u001b[0m ):\n\u001b[1;32m    153\u001b[0m \u001b[39m    \u001b[39m\u001b[39m\"\"\"Create a new WSGI server listening on `host` and `port` for `app`\"\"\"\u001b[39;00m\n\u001b[0;32m--> 154\u001b[0m     server \u001b[39m=\u001b[39m server_class((host, port), handler_class)\n\u001b[1;32m    155\u001b[0m     server\u001b[39m.\u001b[39mset_app(app)\n\u001b[1;32m    156\u001b[0m     \u001b[39mreturn\u001b[39;00m server\n",
      "File \u001b[0;32m/usr/lib/python3.9/socketserver.py:452\u001b[0m, in \u001b[0;36mTCPServer.__init__\u001b[0;34m(self, server_address, RequestHandlerClass, bind_and_activate)\u001b[0m\n\u001b[1;32m    450\u001b[0m \u001b[39mif\u001b[39;00m bind_and_activate:\n\u001b[1;32m    451\u001b[0m     \u001b[39mtry\u001b[39;00m:\n\u001b[0;32m--> 452\u001b[0m         \u001b[39mself\u001b[39;49m\u001b[39m.\u001b[39;49mserver_bind()\n\u001b[1;32m    453\u001b[0m         \u001b[39mself\u001b[39m\u001b[39m.\u001b[39mserver_activate()\n\u001b[1;32m    454\u001b[0m     \u001b[39mexcept\u001b[39;00m:\n",
      "File \u001b[0;32m/usr/lib/python3.9/wsgiref/simple_server.py:50\u001b[0m, in \u001b[0;36mWSGIServer.server_bind\u001b[0;34m(self)\u001b[0m\n\u001b[1;32m     48\u001b[0m \u001b[39mdef\u001b[39;00m \u001b[39mserver_bind\u001b[39m(\u001b[39mself\u001b[39m):\n\u001b[1;32m     49\u001b[0m \u001b[39m    \u001b[39m\u001b[39m\"\"\"Override server_bind to store the server name.\"\"\"\u001b[39;00m\n\u001b[0;32m---> 50\u001b[0m     HTTPServer\u001b[39m.\u001b[39;49mserver_bind(\u001b[39mself\u001b[39;49m)\n\u001b[1;32m     51\u001b[0m     \u001b[39mself\u001b[39m\u001b[39m.\u001b[39msetup_environ()\n",
      "File \u001b[0;32m/usr/lib/python3.9/http/server.py:138\u001b[0m, in \u001b[0;36mHTTPServer.server_bind\u001b[0;34m(self)\u001b[0m\n\u001b[1;32m    136\u001b[0m \u001b[39mdef\u001b[39;00m \u001b[39mserver_bind\u001b[39m(\u001b[39mself\u001b[39m):\n\u001b[1;32m    137\u001b[0m \u001b[39m    \u001b[39m\u001b[39m\"\"\"Override server_bind to store the server name.\"\"\"\u001b[39;00m\n\u001b[0;32m--> 138\u001b[0m     socketserver\u001b[39m.\u001b[39;49mTCPServer\u001b[39m.\u001b[39;49mserver_bind(\u001b[39mself\u001b[39;49m)\n\u001b[1;32m    139\u001b[0m     host, port \u001b[39m=\u001b[39m \u001b[39mself\u001b[39m\u001b[39m.\u001b[39mserver_address[:\u001b[39m2\u001b[39m]\n\u001b[1;32m    140\u001b[0m     \u001b[39mself\u001b[39m\u001b[39m.\u001b[39mserver_name \u001b[39m=\u001b[39m socket\u001b[39m.\u001b[39mgetfqdn(host)\n",
      "File \u001b[0;32m/usr/lib/python3.9/socketserver.py:466\u001b[0m, in \u001b[0;36mTCPServer.server_bind\u001b[0;34m(self)\u001b[0m\n\u001b[1;32m    464\u001b[0m \u001b[39mif\u001b[39;00m \u001b[39mself\u001b[39m\u001b[39m.\u001b[39mallow_reuse_address:\n\u001b[1;32m    465\u001b[0m     \u001b[39mself\u001b[39m\u001b[39m.\u001b[39msocket\u001b[39m.\u001b[39msetsockopt(socket\u001b[39m.\u001b[39mSOL_SOCKET, socket\u001b[39m.\u001b[39mSO_REUSEADDR, \u001b[39m1\u001b[39m)\n\u001b[0;32m--> 466\u001b[0m \u001b[39mself\u001b[39;49m\u001b[39m.\u001b[39;49msocket\u001b[39m.\u001b[39;49mbind(\u001b[39mself\u001b[39;49m\u001b[39m.\u001b[39;49mserver_address)\n\u001b[1;32m    467\u001b[0m \u001b[39mself\u001b[39m\u001b[39m.\u001b[39mserver_address \u001b[39m=\u001b[39m \u001b[39mself\u001b[39m\u001b[39m.\u001b[39msocket\u001b[39m.\u001b[39mgetsockname()\n",
      "\u001b[0;31mOSError\u001b[0m: [Errno 98] Address already in use"
     ]
    }
   ],
   "source": [
    "flow.run_local_server()\n",
    "\n",
    "session = flow.authorized_session()\n",
    "\n",
    "profile_info = session.get(\n",
    "    'https://www.googleapis.com/userinfo/v2/me').json()\n"
   ]
  },
  {
   "cell_type": "code",
   "execution_count": 10,
   "metadata": {},
   "outputs": [
    {
     "name": "stdout",
     "output_type": "stream",
     "text": [
      "Please visit this URL to authorize this application: https://accounts.google.com/o/oauth2/auth?response_type=code&client_id=318040672941-jbi4pi3rhckhlcpv5cp32v0c01lofqml.apps.googleusercontent.com&redirect_uri=http%3A%2F%2Flocalhost%3A8080%2F&scope=https%3A%2F%2Fwww.googleapis.com%2Fauth%2Fdrive&state=tjWhb7mIwFj5IdkumJ5fSygW8OpSyo&access_type=offline\n"
     ]
    },
    {
     "ename": "KeyboardInterrupt",
     "evalue": "",
     "output_type": "error",
     "traceback": [
      "\u001b[0;31m---------------------------------------------------------------------------\u001b[0m",
      "\u001b[0;31mKeyboardInterrupt\u001b[0m                         Traceback (most recent call last)",
      "Cell \u001b[0;32mIn[10], line 23\u001b[0m\n\u001b[1;32m     18\u001b[0m \u001b[39mfrom\u001b[39;00m \u001b[39mgoogle_auth_oauthlib\u001b[39;00m\u001b[39m.\u001b[39;00m\u001b[39mflow\u001b[39;00m \u001b[39mimport\u001b[39;00m InstalledAppFlow\n\u001b[1;32m     20\u001b[0m flow \u001b[39m=\u001b[39m InstalledAppFlow\u001b[39m.\u001b[39mfrom_client_secrets_file(\n\u001b[1;32m     21\u001b[0m     \u001b[39m'\u001b[39m\u001b[39mcredentials.json\u001b[39m\u001b[39m'\u001b[39m,\n\u001b[1;32m     22\u001b[0m     scopes\u001b[39m=\u001b[39mSCOPES)\n\u001b[0;32m---> 23\u001b[0m creds \u001b[39m=\u001b[39m Credentials\u001b[39m.\u001b[39mfrom_authorized_user_info(info\u001b[39m=\u001b[39mflow\u001b[39m.\u001b[39;49mrun_local_server()[\u001b[39m'\u001b[39m\u001b[39mtokens\u001b[39m\u001b[39m'\u001b[39m])\n",
      "File \u001b[0;32m/home/gcp-templates/lib/python3.9/site-packages/google_auth_oauthlib/flow.py:442\u001b[0m, in \u001b[0;36mInstalledAppFlow.run_local_server\u001b[0;34m(self, host, bind_addr, port, authorization_prompt_message, success_message, open_browser, redirect_uri_trailing_slash, timeout_seconds, **kwargs)\u001b[0m\n\u001b[1;32m    439\u001b[0m     \u001b[39mprint\u001b[39m(authorization_prompt_message\u001b[39m.\u001b[39mformat(url\u001b[39m=\u001b[39mauth_url))\n\u001b[1;32m    441\u001b[0m local_server\u001b[39m.\u001b[39mtimeout \u001b[39m=\u001b[39m timeout_seconds\n\u001b[0;32m--> 442\u001b[0m local_server\u001b[39m.\u001b[39;49mhandle_request()\n\u001b[1;32m    444\u001b[0m \u001b[39m# Note: using https here because oauthlib is very picky that\u001b[39;00m\n\u001b[1;32m    445\u001b[0m \u001b[39m# OAuth 2.0 should only occur over https.\u001b[39;00m\n\u001b[1;32m    446\u001b[0m authorization_response \u001b[39m=\u001b[39m wsgi_app\u001b[39m.\u001b[39mlast_request_uri\u001b[39m.\u001b[39mreplace(\u001b[39m\"\u001b[39m\u001b[39mhttp\u001b[39m\u001b[39m\"\u001b[39m, \u001b[39m\"\u001b[39m\u001b[39mhttps\u001b[39m\u001b[39m\"\u001b[39m)\n",
      "File \u001b[0;32m/usr/lib/python3.9/socketserver.py:294\u001b[0m, in \u001b[0;36mBaseServer.handle_request\u001b[0;34m(self)\u001b[0m\n\u001b[1;32m    291\u001b[0m selector\u001b[39m.\u001b[39mregister(\u001b[39mself\u001b[39m, selectors\u001b[39m.\u001b[39mEVENT_READ)\n\u001b[1;32m    293\u001b[0m \u001b[39mwhile\u001b[39;00m \u001b[39mTrue\u001b[39;00m:\n\u001b[0;32m--> 294\u001b[0m     ready \u001b[39m=\u001b[39m selector\u001b[39m.\u001b[39;49mselect(timeout)\n\u001b[1;32m    295\u001b[0m     \u001b[39mif\u001b[39;00m ready:\n\u001b[1;32m    296\u001b[0m         \u001b[39mreturn\u001b[39;00m \u001b[39mself\u001b[39m\u001b[39m.\u001b[39m_handle_request_noblock()\n",
      "File \u001b[0;32m/usr/lib/python3.9/selectors.py:416\u001b[0m, in \u001b[0;36m_PollLikeSelector.select\u001b[0;34m(self, timeout)\u001b[0m\n\u001b[1;32m    414\u001b[0m ready \u001b[39m=\u001b[39m []\n\u001b[1;32m    415\u001b[0m \u001b[39mtry\u001b[39;00m:\n\u001b[0;32m--> 416\u001b[0m     fd_event_list \u001b[39m=\u001b[39m \u001b[39mself\u001b[39;49m\u001b[39m.\u001b[39;49m_selector\u001b[39m.\u001b[39;49mpoll(timeout)\n\u001b[1;32m    417\u001b[0m \u001b[39mexcept\u001b[39;00m \u001b[39mInterruptedError\u001b[39;00m:\n\u001b[1;32m    418\u001b[0m     \u001b[39mreturn\u001b[39;00m ready\n",
      "\u001b[0;31mKeyboardInterrupt\u001b[0m: "
     ]
    }
   ],
   "source": [
    "from google.oauth2.credentials import Credentials\n",
    "from googleapiclient.discovery import build\n",
    "from google_auth_oauthlib.flow import Flow\n",
    "from google.auth.transport.requests import Request\n",
    "\n",
    "CLIENT_ID = '318040672941-jbi4pi3rhckhlcpv5cp32v0c01lofqml.apps.googleusercontent.com'\n",
    "CLIENT_SECRET = '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'\n",
    "SCOPES = ['https://www.googleapis.com/auth/drive']\n",
    "\n",
    "# flow = Flow.from_client_config({\n",
    "#     'client_id': CLIENT_ID,\n",
    "#     'client_secret': CLIENT_SECRET,\n",
    "#     'redirect_uris': ['urn:ietf:wg:oauth:2.0:oob'],\n",
    "#     'auth_uri': 'https://accounts.google.com/o/oauth2/auth',\n",
    "#     'token_uri': 'https://oauth2.googleapis.com/token',\n",
    "#     'access_type': 'offline'\n",
    "# }, scopes=SCOPES)\n",
    "from google_auth_oauthlib.flow import InstalledAppFlow\n",
    "\n",
    "flow = InstalledAppFlow.from_client_secrets_file(\n",
    "    'credentials.json',\n",
    "    scopes=SCOPES)\n",
    "creds = Credentials.from_authorized_user_info(info=flow.run_local_server()['tokens'])\n"
   ]
  },
  {
   "cell_type": "code",
   "execution_count": null,
   "metadata": {},
   "outputs": [],
   "source": [
    "drive_service = build('drive', 'v3', credentials=creds)\n",
    "files = drive_service.files().list().execute().get('files', [])\n",
    "for file in files:\n",
    "    print(file['name'], file['id'])\n"
   ]
  },
  {
   "cell_type": "code",
   "execution_count": null,
   "metadata": {},
   "outputs": [],
   "source": []
  },
  {
   "cell_type": "code",
   "execution_count": 2,
   "metadata": {},
   "outputs": [
    {
     "ename": "TypeError",
     "evalue": "__init__() got an unexpected keyword argument 'creds'",
     "output_type": "error",
     "traceback": [
      "\u001b[0;31m---------------------------------------------------------------------------\u001b[0m",
      "\u001b[0;31mTypeError\u001b[0m                                 Traceback (most recent call last)",
      "Cell \u001b[0;32mIn[2], line 31\u001b[0m\n\u001b[1;32m     25\u001b[0m      scoped_credentials \u001b[39m=\u001b[39m creds\u001b[39m.\u001b[39mwith_scopes(config()\u001b[39m.\u001b[39mSCOPES)    \n\u001b[1;32m     26\u001b[0m \u001b[39m# else:\u001b[39;00m\n\u001b[1;32m     27\u001b[0m \u001b[39m# creds, _ = google.auth.default()\u001b[39;00m\n\u001b[1;32m     28\u001b[0m \u001b[39m# scoped_credentials = creds.with_scopes(config.SCOPES)\u001b[39;00m\n\u001b[1;32m     29\u001b[0m \u001b[39m# \u001b[39;00m\n\u001b[0;32m---> 31\u001b[0m FromDriveToStorage(config, creds\u001b[39m=\u001b[39;49mcreds, scoped_credentials\u001b[39m=\u001b[39;49mscoped_credentials)\n",
      "\u001b[0;31mTypeError\u001b[0m: __init__() got an unexpected keyword argument 'creds'"
     ]
    }
   ],
   "source": [
    "\"\"\"Create a data pipeline that every month checks a folder in a Google shared \n",
    "drive for any new xlsx spreadsheets and then takes that new data from \n",
    "Google Drive to a bucket in Google Cloud Storage, without using service account keys \n",
    "(organizational security limitation). I think this is best done with \n",
    "cloud functions and cloud scheduler but alternative methods are welcome if justifiable.\n",
    "\n",
    "After that, create another cloud function that takes any new raw data in \n",
    "the Google Storage bucket and processes it in BigQuery, adding the data as \n",
    "new rows to a master spreadsheet. The processed data should be stored as a\n",
    "csv in BigQuery. This should happen monthly as well.\n",
    "\n",
    "I can provide a dummy spreadsheet of raw data. As long as this pipeline \n",
    "functions by bringing the data from Google Drive every month into GCS and then \n",
    "transforms and stores it in BigQuery, then this job was successful.\"\"\"\n",
    "\n",
    "import os \n",
    "import google.auth\n",
    "\n",
    "from google.oauth2 import service_account\n",
    "\n",
    "from config import config_env\n",
    "\n",
    "from function.function import  FromDriveToStorage\n",
    "import google.auth\n",
    "\n",
    "\n",
    "CONFIG_ENV = os.getenv(\"ENV\") or \"dev\"\n",
    "config = config_env[CONFIG_ENV]\n",
    "\n",
    "# Create credentials with Drive & BigQuery API scopes.\n",
    "# Both APIs must be enabled for your project before running this code.\n",
    "# credentials, project = google.auth.default(\n",
    "#     scopes=config.SCOPES\n",
    "# )\n",
    "\n",
    "key_path='/home/portfolio/GCP-Templates/cloud_function/from_drive_to_storage/function/drive.json'\n",
    "creds=None\n",
    "if CONFIG_ENV==\"dev\":\n",
    "     creds = service_account.Credentials.from_service_account_file(key_path) # If you're using local machine    \n",
    "     scoped_credentials = creds.with_scopes(config().SCOPES)    \n",
    "# else:\n",
    "# creds, _ = google.auth.default()\n",
    "# scoped_credentials = creds.with_scopes(config.SCOPES)\n",
    "# \n",
    "\n",
    "\n"
   ]
  },
  {
   "cell_type": "code",
   "execution_count": 3,
   "metadata": {},
   "outputs": [
    {
     "name": "stderr",
     "output_type": "stream",
     "text": [
      "/home/gcp-templates/lib/python3.9/site-packages/google/auth/_default.py:83: UserWarning: Your application has authenticated using end user credentials from Google Cloud SDK without a quota project. You might receive a \"quota exceeded\" or \"API not enabled\" error. We recommend you rerun `gcloud auth application-default login` and make sure a quota project is added. Or you can use service accounts instead. For more information about service accounts, see https://cloud.google.com/docs/authentication/\n",
      "  warnings.warn(_CLOUD_SDK_CREDENTIALS_WARNING)\n"
     ]
    },
    {
     "name": "stdout",
     "output_type": "stream",
     "text": [
      "An error occurred: <HttpError 403 when requesting https://www.googleapis.com/drive/v3/files?pageSize=10&fields=nextPageToken%2C+files%28id%2C+name%29&alt=json returned \"Request had insufficient authentication scopes.\". Details: \"[{'message': 'Insufficient Permission', 'domain': 'global', 'reason': 'insufficientPermissions'}]\">\n"
     ]
    }
   ],
   "source": [
    "from __future__ import print_function\n",
    "\n",
    "import os.path\n",
    "\n",
    "import google.auth\n",
    "from google.auth.transport.requests import Request\n",
    "from google.oauth2.credentials import Credentials\n",
    "from google_auth_oauthlib.flow import InstalledAppFlow\n",
    "from googleapiclient.discovery import build\n",
    "from googleapiclient.errors import HttpError\n",
    "\n",
    "# If modifying these scopes, delete the file token.json.\n",
    "\n",
    "SCOPES=['https://www.googleapis.com/auth/drive',\n",
    "    'https://www.googleapis.com/auth/drive.file',\n",
    "    'https://www.googleapis.com/auth/drive.readonly',\n",
    "    'https://www.googleapis.com/auth/drive.metadata.readonly',\n",
    "    'https://www.googleapis.com/auth/drive.appdata',\n",
    "    'https://www.googleapis.com/auth/drive.metadata',\n",
    "    'https://www.googleapis.com/auth/drive.photos.readonly',\n",
    "]\n",
    "\n",
    "\n",
    "\n",
    "\"\"\"Shows basic usage of the Drive v3 API.\n",
    "Prints the names and ids of the first 10 files the user has access to.\n",
    "\"\"\"\n",
    "credentials = None\n",
    "# The file token.json stores the user's access and refresh tokens, and is\n",
    "# created automatically when the authorization flow completes for the first\n",
    "# time.\n",
    "if os.path.exists('token.json'):\n",
    "    credentials = Credentials.from_authorized_user_file('token.json', SCOPES)\n",
    "# If there are no (valid) credentials available, let the user log in.\n",
    "if not credentials or not credentials.valid:\n",
    "    if credentials and credentials.expired and credentials.refresh_token:\n",
    "        credentials.refresh(Request())\n",
    "    else:\n",
    "        credentials, project = google.auth.default(scopes=SCOPES)\n",
    "try:\n",
    "    service = build('drive', 'v3', credentials=credentials)\n",
    "\n",
    "    # Call the Drive v3 API\n",
    "    results = service.files().list(\n",
    "        pageSize=10, fields=\"nextPageToken, files(id, name)\").execute()\n",
    "    items = results.get('files', [])\n",
    "\n",
    "    if not items:\n",
    "        print('No files found.')\n",
    "        \n",
    "    print('Files:')\n",
    "    for item in items:\n",
    "        print(u'{0} ({1})'.format(item['name'], item['id']))\n",
    "except HttpError as error:\n",
    "    # TODO(developer) - Handle errors from drive API.\n",
    "    print(f'An error occurred: {error}')\n",
    "\n",
    "\n"
   ]
  },
  {
   "cell_type": "code",
   "execution_count": 4,
   "metadata": {},
   "outputs": [
    {
     "data": {
      "text/plain": [
       "[{'mimeType': 'application/vnd.google-apps.folder',\n",
       "  'id': '1uymD6k_4JTTP4YuTP_NBTAftS4nteU5o',\n",
       "  'name': 'germination_analysis',\n",
       "  'modifiedTime': '2023-03-03T23:34:10.600Z'},\n",
       " {'mimeType': 'text/csv',\n",
       "  'parents': ['1uymD6k_4JTTP4YuTP_NBTAftS4nteU5o'],\n",
       "  'size': '32036',\n",
       "  'id': '1kCoIzOE9Sj3xYporr1CEjXn7_AKwrORp',\n",
       "  'name': 'ABA.csv',\n",
       "  'modifiedTime': '2023-02-22T21:19:10.000Z'}]"
      ]
     },
     "execution_count": 4,
     "metadata": {},
     "output_type": "execute_result"
    }
   ],
   "source": [
    "import os\n",
    "from google.oauth2 import service_account\n",
    "key_path=os.path.dirname(os.path.dirname(\"credentials\") +\"drive\") +\"drive.json\"\n",
    "creds = service_account.Credentials.from_service_account_file(key_path) # If you're using local machine    \n",
    "\n",
    "SCOPES = ['https://www.googleapis.com/auth/drive.metadata.readonly']\n",
    "scoped_credentials = creds.with_scopes(SCOPES)    \n",
    "\n",
    "# service_account_info = json.loads(os.getenv('GDRIVE_AUTH'))\n",
    "SCOPES = ['https://www.googleapis.com/auth/drive.metadata.readonly']\n",
    "\n",
    "# creds = service_account.Credentials.from_service_account_info(\n",
    "#         service_account_info, scopes=SCOPES)\n",
    "\n",
    "service = build('drive', 'v3', credentials=scoped_credentials)\n",
    "results = service.files().list(\n",
    "        pageSize=5, fields=\"nextPageToken, files(id, name, mimeType, size, parents, modifiedTime)\").execute()\n",
    "    # get the results\n",
    "items = results.get('files', [])\n",
    "    # list all 20 files & folders\n",
    "items"
   ]
  },
  {
   "cell_type": "code",
   "execution_count": 6,
   "metadata": {},
   "outputs": [
    {
     "name": "stdout",
     "output_type": "stream",
     "text": [
      "\n",
      "Go to the following link in your browser:\n",
      "\n",
      "    https://accounts.google.com/o/oauth2/auth?client_id=318040672941-jbi4pi3rhckhlcpv5cp32v0c01lofqml.apps.googleusercontent.com&redirect_uri=urn%3Aietf%3Awg%3Aoauth%3A2.0%3Aoob&scope=https%3A%2F%2Fwww.googleapis.com%2Fauth%2Fdrive.metadata.readonly&access_type=offline&response_type=code\n",
      "\n"
     ]
    },
    {
     "ename": "AttributeError",
     "evalue": "'tuple' object has no attribute 'tb_frame'",
     "output_type": "error",
     "traceback": [
      "\u001b[0;31m---------------------------------------------------------------------------\u001b[0m",
      "\u001b[0;31mFlowExchangeError\u001b[0m                         Traceback (most recent call last)",
      "File \u001b[0;32m/home/gcp-templates/lib/python3.9/site-packages/oauth2client/tools.py:243\u001b[0m, in \u001b[0;36mrun_flow\u001b[0;34m(flow, storage, flags, http)\u001b[0m\n\u001b[1;32m    242\u001b[0m \u001b[39mtry\u001b[39;00m:\n\u001b[0;32m--> 243\u001b[0m     credential \u001b[39m=\u001b[39m flow\u001b[39m.\u001b[39;49mstep2_exchange(code, http\u001b[39m=\u001b[39;49mhttp)\n\u001b[1;32m    244\u001b[0m \u001b[39mexcept\u001b[39;00m client\u001b[39m.\u001b[39mFlowExchangeError \u001b[39mas\u001b[39;00m e:\n",
      "File \u001b[0;32m/home/gcp-templates/lib/python3.9/site-packages/oauth2client/_helpers.py:133\u001b[0m, in \u001b[0;36mpositional.<locals>.positional_decorator.<locals>.positional_wrapper\u001b[0;34m(*args, **kwargs)\u001b[0m\n\u001b[1;32m    132\u001b[0m         logger\u001b[39m.\u001b[39mwarning(message)\n\u001b[0;32m--> 133\u001b[0m \u001b[39mreturn\u001b[39;00m wrapped(\u001b[39m*\u001b[39;49margs, \u001b[39m*\u001b[39;49m\u001b[39m*\u001b[39;49mkwargs)\n",
      "File \u001b[0;32m/home/gcp-templates/lib/python3.9/site-packages/oauth2client/client.py:2089\u001b[0m, in \u001b[0;36mOAuth2WebServerFlow.step2_exchange\u001b[0;34m(self, code, http, device_flow_info)\u001b[0m\n\u001b[1;32m   2088\u001b[0m     error_msg \u001b[39m=\u001b[39m \u001b[39m'\u001b[39m\u001b[39mInvalid response: \u001b[39m\u001b[39m{0}\u001b[39;00m\u001b[39m.\u001b[39m\u001b[39m'\u001b[39m\u001b[39m.\u001b[39mformat(\u001b[39mstr\u001b[39m(resp\u001b[39m.\u001b[39mstatus))\n\u001b[0;32m-> 2089\u001b[0m \u001b[39mraise\u001b[39;00m FlowExchangeError(error_msg)\n",
      "\u001b[0;31mFlowExchangeError\u001b[0m: invalid_requestMissing required parameter: code",
      "\nDuring handling of the above exception, another exception occurred:\n",
      "\u001b[0;31mSystemExit\u001b[0m                                Traceback (most recent call last)",
      "    \u001b[0;31m[... skipping hidden 1 frame]\u001b[0m\n",
      "Cell \u001b[0;32mIn[6], line 27\u001b[0m\n\u001b[1;32m     26\u001b[0m \u001b[39mif\u001b[39;00m credentials \u001b[39mis\u001b[39;00m \u001b[39mNone\u001b[39;00m \u001b[39mor\u001b[39;00m credentials\u001b[39m.\u001b[39minvalid:\n\u001b[0;32m---> 27\u001b[0m     credentials \u001b[39m=\u001b[39m tools\u001b[39m.\u001b[39;49mrun_flow(flow, storage, flags)\n\u001b[1;32m     28\u001b[0m http \u001b[39m=\u001b[39m credentials\u001b[39m.\u001b[39mauthorize(http\u001b[39m=\u001b[39mbuild_http())\n",
      "File \u001b[0;32m/home/gcp-templates/lib/python3.9/site-packages/oauth2client/_helpers.py:133\u001b[0m, in \u001b[0;36mpositional.<locals>.positional_decorator.<locals>.positional_wrapper\u001b[0;34m(*args, **kwargs)\u001b[0m\n\u001b[1;32m    132\u001b[0m         logger\u001b[39m.\u001b[39mwarning(message)\n\u001b[0;32m--> 133\u001b[0m \u001b[39mreturn\u001b[39;00m wrapped(\u001b[39m*\u001b[39;49margs, \u001b[39m*\u001b[39;49m\u001b[39m*\u001b[39;49mkwargs)\n",
      "File \u001b[0;32m/home/gcp-templates/lib/python3.9/site-packages/oauth2client/tools.py:245\u001b[0m, in \u001b[0;36mrun_flow\u001b[0;34m(flow, storage, flags, http)\u001b[0m\n\u001b[1;32m    244\u001b[0m \u001b[39mexcept\u001b[39;00m client\u001b[39m.\u001b[39mFlowExchangeError \u001b[39mas\u001b[39;00m e:\n\u001b[0;32m--> 245\u001b[0m     sys\u001b[39m.\u001b[39;49mexit(\u001b[39m'\u001b[39;49m\u001b[39mAuthentication has failed: \u001b[39;49m\u001b[39m{0}\u001b[39;49;00m\u001b[39m'\u001b[39;49m\u001b[39m.\u001b[39;49mformat(e))\n\u001b[1;32m    247\u001b[0m storage\u001b[39m.\u001b[39mput(credential)\n",
      "\u001b[0;31mSystemExit\u001b[0m: Authentication has failed: invalid_requestMissing required parameter: code",
      "\nDuring handling of the above exception, another exception occurred:\n",
      "\u001b[0;31mAttributeError\u001b[0m                            Traceback (most recent call last)",
      "    \u001b[0;31m[... skipping hidden 1 frame]\u001b[0m\n",
      "File \u001b[0;32m/home/gcp-templates/lib/python3.9/site-packages/IPython/core/interactiveshell.py:2047\u001b[0m, in \u001b[0;36mInteractiveShell.showtraceback\u001b[0;34m(self, exc_tuple, filename, tb_offset, exception_only, running_compiled_code)\u001b[0m\n\u001b[1;32m   2044\u001b[0m \u001b[39mif\u001b[39;00m exception_only:\n\u001b[1;32m   2045\u001b[0m     stb \u001b[39m=\u001b[39m [\u001b[39m'\u001b[39m\u001b[39mAn exception has occurred, use \u001b[39m\u001b[39m%\u001b[39m\u001b[39mtb to see \u001b[39m\u001b[39m'\u001b[39m\n\u001b[1;32m   2046\u001b[0m            \u001b[39m'\u001b[39m\u001b[39mthe full traceback.\u001b[39m\u001b[39m\\n\u001b[39;00m\u001b[39m'\u001b[39m]\n\u001b[0;32m-> 2047\u001b[0m     stb\u001b[39m.\u001b[39mextend(\u001b[39mself\u001b[39;49m\u001b[39m.\u001b[39;49mInteractiveTB\u001b[39m.\u001b[39;49mget_exception_only(etype,\n\u001b[1;32m   2048\u001b[0m                                                      value))\n\u001b[1;32m   2049\u001b[0m \u001b[39melse\u001b[39;00m:\n\u001b[1;32m   2050\u001b[0m     \u001b[39mtry\u001b[39;00m:\n\u001b[1;32m   2051\u001b[0m         \u001b[39m# Exception classes can customise their traceback - we\u001b[39;00m\n\u001b[1;32m   2052\u001b[0m         \u001b[39m# use this in IPython.parallel for exceptions occurring\u001b[39;00m\n\u001b[1;32m   2053\u001b[0m         \u001b[39m# in the engines. This should return a list of strings.\u001b[39;00m\n",
      "File \u001b[0;32m/home/gcp-templates/lib/python3.9/site-packages/IPython/core/ultratb.py:636\u001b[0m, in \u001b[0;36mListTB.get_exception_only\u001b[0;34m(self, etype, value)\u001b[0m\n\u001b[1;32m    628\u001b[0m \u001b[39mdef\u001b[39;00m \u001b[39mget_exception_only\u001b[39m(\u001b[39mself\u001b[39m, etype, value):\n\u001b[1;32m    629\u001b[0m \u001b[39m    \u001b[39m\u001b[39m\"\"\"Only print the exception type and message, without a traceback.\u001b[39;00m\n\u001b[1;32m    630\u001b[0m \n\u001b[1;32m    631\u001b[0m \u001b[39m    Parameters\u001b[39;00m\n\u001b[0;32m   (...)\u001b[0m\n\u001b[1;32m    634\u001b[0m \u001b[39m    value : exception value\u001b[39;00m\n\u001b[1;32m    635\u001b[0m \u001b[39m    \"\"\"\u001b[39;00m\n\u001b[0;32m--> 636\u001b[0m     \u001b[39mreturn\u001b[39;00m ListTB\u001b[39m.\u001b[39;49mstructured_traceback(\u001b[39mself\u001b[39;49m, etype, value)\n",
      "File \u001b[0;32m/home/gcp-templates/lib/python3.9/site-packages/IPython/core/ultratb.py:503\u001b[0m, in \u001b[0;36mListTB.structured_traceback\u001b[0;34m(self, etype, evalue, etb, tb_offset, context)\u001b[0m\n\u001b[1;32m    500\u001b[0m     chained_exc_ids\u001b[39m.\u001b[39madd(\u001b[39mid\u001b[39m(exception[\u001b[39m1\u001b[39m]))\n\u001b[1;32m    501\u001b[0m     chained_exceptions_tb_offset \u001b[39m=\u001b[39m \u001b[39m0\u001b[39m\n\u001b[1;32m    502\u001b[0m     out_list \u001b[39m=\u001b[39m (\n\u001b[0;32m--> 503\u001b[0m         \u001b[39mself\u001b[39;49m\u001b[39m.\u001b[39;49mstructured_traceback(\n\u001b[1;32m    504\u001b[0m             etype, evalue, (etb, chained_exc_ids),\n\u001b[1;32m    505\u001b[0m             chained_exceptions_tb_offset, context)\n\u001b[1;32m    506\u001b[0m         \u001b[39m+\u001b[39m chained_exception_message\n\u001b[1;32m    507\u001b[0m         \u001b[39m+\u001b[39m out_list)\n\u001b[1;32m    509\u001b[0m \u001b[39mreturn\u001b[39;00m out_list\n",
      "File \u001b[0;32m/home/gcp-templates/lib/python3.9/site-packages/IPython/core/ultratb.py:1288\u001b[0m, in \u001b[0;36mAutoFormattedTB.structured_traceback\u001b[0;34m(self, etype, value, tb, tb_offset, number_of_lines_of_context)\u001b[0m\n\u001b[1;32m   1286\u001b[0m \u001b[39melse\u001b[39;00m:\n\u001b[1;32m   1287\u001b[0m     \u001b[39mself\u001b[39m\u001b[39m.\u001b[39mtb \u001b[39m=\u001b[39m tb\n\u001b[0;32m-> 1288\u001b[0m \u001b[39mreturn\u001b[39;00m FormattedTB\u001b[39m.\u001b[39;49mstructured_traceback(\n\u001b[1;32m   1289\u001b[0m     \u001b[39mself\u001b[39;49m, etype, value, tb, tb_offset, number_of_lines_of_context)\n",
      "File \u001b[0;32m/home/gcp-templates/lib/python3.9/site-packages/IPython/core/ultratb.py:1177\u001b[0m, in \u001b[0;36mFormattedTB.structured_traceback\u001b[0;34m(self, etype, value, tb, tb_offset, number_of_lines_of_context)\u001b[0m\n\u001b[1;32m   1174\u001b[0m mode \u001b[39m=\u001b[39m \u001b[39mself\u001b[39m\u001b[39m.\u001b[39mmode\n\u001b[1;32m   1175\u001b[0m \u001b[39mif\u001b[39;00m mode \u001b[39min\u001b[39;00m \u001b[39mself\u001b[39m\u001b[39m.\u001b[39mverbose_modes:\n\u001b[1;32m   1176\u001b[0m     \u001b[39m# Verbose modes need a full traceback\u001b[39;00m\n\u001b[0;32m-> 1177\u001b[0m     \u001b[39mreturn\u001b[39;00m VerboseTB\u001b[39m.\u001b[39;49mstructured_traceback(\n\u001b[1;32m   1178\u001b[0m         \u001b[39mself\u001b[39;49m, etype, value, tb, tb_offset, number_of_lines_of_context\n\u001b[1;32m   1179\u001b[0m     )\n\u001b[1;32m   1180\u001b[0m \u001b[39melif\u001b[39;00m mode \u001b[39m==\u001b[39m \u001b[39m'\u001b[39m\u001b[39mMinimal\u001b[39m\u001b[39m'\u001b[39m:\n\u001b[1;32m   1181\u001b[0m     \u001b[39mreturn\u001b[39;00m ListTB\u001b[39m.\u001b[39mget_exception_only(\u001b[39mself\u001b[39m, etype, value)\n",
      "File \u001b[0;32m/home/gcp-templates/lib/python3.9/site-packages/IPython/core/ultratb.py:1030\u001b[0m, in \u001b[0;36mVerboseTB.structured_traceback\u001b[0;34m(self, etype, evalue, etb, tb_offset, number_of_lines_of_context)\u001b[0m\n\u001b[1;32m   1021\u001b[0m \u001b[39mdef\u001b[39;00m \u001b[39mstructured_traceback\u001b[39m(\n\u001b[1;32m   1022\u001b[0m     \u001b[39mself\u001b[39m,\n\u001b[1;32m   1023\u001b[0m     etype: \u001b[39mtype\u001b[39m,\n\u001b[0;32m   (...)\u001b[0m\n\u001b[1;32m   1027\u001b[0m     number_of_lines_of_context: \u001b[39mint\u001b[39m \u001b[39m=\u001b[39m \u001b[39m5\u001b[39m,\n\u001b[1;32m   1028\u001b[0m ):\n\u001b[1;32m   1029\u001b[0m \u001b[39m    \u001b[39m\u001b[39m\"\"\"Return a nice text document describing the traceback.\"\"\"\u001b[39;00m\n\u001b[0;32m-> 1030\u001b[0m     formatted_exception \u001b[39m=\u001b[39m \u001b[39mself\u001b[39;49m\u001b[39m.\u001b[39;49mformat_exception_as_a_whole(etype, evalue, etb, number_of_lines_of_context,\n\u001b[1;32m   1031\u001b[0m                                                            tb_offset)\n\u001b[1;32m   1033\u001b[0m     colors \u001b[39m=\u001b[39m \u001b[39mself\u001b[39m\u001b[39m.\u001b[39mColors  \u001b[39m# just a shorthand + quicker name lookup\u001b[39;00m\n\u001b[1;32m   1034\u001b[0m     colorsnormal \u001b[39m=\u001b[39m colors\u001b[39m.\u001b[39mNormal  \u001b[39m# used a lot\u001b[39;00m\n",
      "File \u001b[0;32m/home/gcp-templates/lib/python3.9/site-packages/IPython/core/ultratb.py:935\u001b[0m, in \u001b[0;36mVerboseTB.format_exception_as_a_whole\u001b[0;34m(self, etype, evalue, etb, number_of_lines_of_context, tb_offset)\u001b[0m\n\u001b[1;32m    932\u001b[0m \u001b[39massert\u001b[39;00m \u001b[39misinstance\u001b[39m(tb_offset, \u001b[39mint\u001b[39m)\n\u001b[1;32m    933\u001b[0m head \u001b[39m=\u001b[39m \u001b[39mself\u001b[39m\u001b[39m.\u001b[39mprepare_header(etype, \u001b[39mself\u001b[39m\u001b[39m.\u001b[39mlong_header)\n\u001b[1;32m    934\u001b[0m records \u001b[39m=\u001b[39m (\n\u001b[0;32m--> 935\u001b[0m     \u001b[39mself\u001b[39;49m\u001b[39m.\u001b[39;49mget_records(etb, number_of_lines_of_context, tb_offset) \u001b[39mif\u001b[39;00m etb \u001b[39melse\u001b[39;00m []\n\u001b[1;32m    936\u001b[0m )\n\u001b[1;32m    938\u001b[0m frames \u001b[39m=\u001b[39m []\n\u001b[1;32m    939\u001b[0m skipped \u001b[39m=\u001b[39m \u001b[39m0\u001b[39m\n",
      "File \u001b[0;32m/home/gcp-templates/lib/python3.9/site-packages/IPython/core/ultratb.py:1002\u001b[0m, in \u001b[0;36mVerboseTB.get_records\u001b[0;34m(self, etb, number_of_lines_of_context, tb_offset)\u001b[0m\n\u001b[1;32m   1000\u001b[0m tbs \u001b[39m=\u001b[39m []\n\u001b[1;32m   1001\u001b[0m \u001b[39mwhile\u001b[39;00m cf \u001b[39mis\u001b[39;00m \u001b[39mnot\u001b[39;00m \u001b[39mNone\u001b[39;00m:\n\u001b[0;32m-> 1002\u001b[0m     source_file \u001b[39m=\u001b[39m inspect\u001b[39m.\u001b[39mgetsourcefile(etb\u001b[39m.\u001b[39;49mtb_frame)\n\u001b[1;32m   1003\u001b[0m     lines, first \u001b[39m=\u001b[39m inspect\u001b[39m.\u001b[39mgetsourcelines(etb\u001b[39m.\u001b[39mtb_frame)\n\u001b[1;32m   1004\u001b[0m     max_len \u001b[39m=\u001b[39m \u001b[39mmax\u001b[39m(max_len, first \u001b[39m+\u001b[39m \u001b[39mlen\u001b[39m(lines))\n",
      "\u001b[0;31mAttributeError\u001b[0m: 'tuple' object has no attribute 'tb_frame'"
     ]
    }
   ],
   "source": [
    "import argparse\n",
    "import os\n",
    "\n",
    "from googleapiclient import discovery\n",
    "from googleapiclient.http import build_http\n",
    "from oauth2client import client, file, tools\n",
    "\n",
    "client_secrets = os.path.join(os.path.dirname(\"drive\"), \"drive.json\")\n",
    "client_secrets = os.path.join(os.getcwd(), 'credentials.json')\n",
    "SCOPES = ['https://www.googleapis.com/auth/drive.metadata.readonly']\n",
    "name='drive'\n",
    "version=\"3\"\n",
    "\n",
    "# flags = tools.argparser.parse_args(args=['--noauth_local_webserver'])\n",
    "flags = argparse.Namespace(auth_host_name='localhost',                                \n",
    "                                logging_level='ERROR',\n",
    "                                noauth_local_webserver=True)\n",
    "\n",
    "\n",
    "# Set up a Flow object to be used if we need to authenticate.\n",
    "flow = client.flow_from_clientsecrets(\n",
    "    client_secrets, scope=SCOPES\n",
    ")\n",
    "\n",
    "credentials = storage.get()\n",
    "if credentials is None or credentials.invalid:\n",
    "    credentials = tools.run_flow(flow, storage, flags)\n",
    "http = credentials.authorize(http=build_http())\n",
    "\n",
    "service = discovery.build(name, version, http=http)\n",
    "\n"
   ]
  },
  {
   "cell_type": "code",
   "execution_count": null,
   "metadata": {},
   "outputs": [],
   "source": [
    "results = service.files().list(\n",
    "        pageSize=5, fields=\"nextPageToken, files(id, name, mimeType, size, parents, modifiedTime)\").execute()\n",
    "    # get the results\n",
    "items = results.get('files', [])\n",
    "    # list all 20 files & folders\n",
    "items"
   ]
  },
  {
   "cell_type": "code",
   "execution_count": null,
   "metadata": {},
   "outputs": [],
   "source": [
    "from __future__ import print_function\n",
    "\n",
    "import os.path\n",
    "\n",
    "from google.auth.transport.requests import Request\n",
    "from google.oauth2.credentials import Credentials\n",
    "from google_auth_oauthlib.flow import InstalledAppFlow\n",
    "from googleapiclient.discovery import build\n",
    "from googleapiclient.errors import HttpError\n",
    "\n",
    "# If modifying these scopes, delete the file token.json.\n",
    "SCOPES = [\"https://www.googleapis.com/auth/drive.readonly\"]\n",
    "key_path = os.path.join(os.getcwd(), 'credentials.json')\n",
    "\n",
    "\n",
    "creds = None\n",
    "# The file token.json stores the user's access and refresh tokens, and is\n",
    "# created automatically when the authorization flow completes for the first\n",
    "# time.\n",
    "if os.path.exists('token.json'):\n",
    "    creds = Credentials.from_authorized_user_file('token.json', SCOPES)\n",
    "# If there are no (valid) credentials available, let the user log in.\n",
    "if not creds or not creds.valid:\n",
    "    if creds and creds.expired and creds.refresh_token:\n",
    "        creds.refresh(Request())\n",
    "    else:\n",
    "        # flow = InstalledAppFlow.from_client_secrets_file(\n",
    "        #     'credentials.json', SCOPES)\n",
    "        flow = InstalledAppFlow.from_client_secrets_file(\n",
    "                key_path, SCOPES)\n",
    "\n",
    "        # creds = flow.run_local_server(port=0)\n",
    "        name =\"a\"            \n",
    "        storage = file.Storage(name + \".dat\")\n",
    "        creds = tools.run_flow(flow, storage)\n",
    "\n",
    "    # Save the credentials for the next run\n",
    "    with open('token.json', 'w') as token:\n",
    "        token.write(creds.to_json())\n",
    "\n",
    "try:\n",
    "    service = build('drive', 'v3', credentials=creds)\n",
    "\n",
    "    # Call the People API\n",
    "    print('List 10 connection names')\n",
    "    results = service.files().list(\n",
    "        pageSize=1, fields=\"nextPageToken, files(id, name, mimeType, size, parents, modifiedTime)\").execute()\n",
    "    # get the results\n",
    "    items = results.get('files', [])\n",
    "    # list all 20 files & folders\n",
    "    connections = results.get('connections', [])\n",
    "\n",
    "    for person in connections:\n",
    "        names = person.get('names', [])\n",
    "        if names:\n",
    "            name = names[0].get('displayName')\n",
    "            print(name)\n",
    "except HttpError as err:\n",
    "    print(err)\n",
    "\n",
    "\n"
   ]
  },
  {
   "cell_type": "code",
   "execution_count": null,
   "metadata": {},
   "outputs": [],
   "source": [
    "# Llama al API para listar los archivos\n",
    "results = service.files().list(\n",
    "    pageSize=10, fields=\"nextPageToken, files(id, name)\").execute()\n",
    "items = results.get('files', [])\n",
    "\n",
    "# Imprime el resultado\n",
    "if not items:\n",
    "    print('No se encontraron archivos.')\n",
    "else:\n",
    "    print('Archivos:')\n",
    "    for item in items:\n",
    "        print(f'{item[\"name\"]} ({item[\"id\"]})')\n"
   ]
  }
 ],
 "metadata": {
  "kernelspec": {
   "display_name": "gcp-templates",
   "language": "python",
   "name": "python3"
  },
  "language_info": {
   "codemirror_mode": {
    "name": "ipython",
    "version": 3
   },
   "file_extension": ".py",
   "mimetype": "text/x-python",
   "name": "python",
   "nbconvert_exporter": "python",
   "pygments_lexer": "ipython3",
   "version": "3.9.2"
  },
  "orig_nbformat": 4,
  "vscode": {
   "interpreter": {
    "hash": "97909859aa075f4ea65c45bfba377766c0488a9b28eefde3dc34f775b7ceff0a"
   }
  }
 },
 "nbformat": 4,
 "nbformat_minor": 2
}
