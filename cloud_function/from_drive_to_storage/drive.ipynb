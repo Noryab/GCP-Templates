{
 "cells": [
  {
   "cell_type": "code",
   "execution_count": 25,
   "metadata": {},
   "outputs": [
    {
     "data": {
      "text/plain": [
       "<function.function.FromDriveToStorage at 0x7f95395992e0>"
      ]
     },
     "execution_count": 25,
     "metadata": {},
     "output_type": "execute_result"
    }
   ],
   "source": [
    "import os \n",
    "import google.auth\n",
    "\n",
    "from google.oauth2 import service_account\n",
    "\n",
    "from config import config_env\n",
    "\n",
    "from function.function import  FromDriveToStorage\n",
    "import google.auth\n",
    "\n",
    "\n",
    "CONFIG_ENV = os.getenv(\"ENV\") or \"dev\"\n",
    "config = config_env[CONFIG_ENV]\n",
    "\n",
    "# Create credentials with Drive & BigQuery API scopes.\n",
    "# Both APIs must be enabled for your project before running this code.\n",
    "# credentials, project = google.auth.default(\n",
    "#     scopes=config.SCOPES\n",
    "# )\n",
    "\n",
    "key_path='/home/portfolio/GCP-Templates/cloud_function/from_drive_to_storage/function/key_storage.json'\n",
    "creds=None\n",
    "if CONFIG_ENV==\"dev\":\n",
    "     creds = service_account.Credentials.from_service_account_file(key_path) # If you're using local machine    \n",
    "     scoped_credentials = creds.with_scopes(config.SCOPES)    \n",
    "else:\n",
    "    creds, _ = google.auth.default()\n",
    "    scoped_credentials = creds.with_scopes(config.SCOPES)\n",
    "\n",
    "\n",
    "FromDriveToStorage(config, creds=creds, scoped_credentials=scoped_credentials)\n"
   ]
  },
  {
   "cell_type": "code",
   "execution_count": 44,
   "metadata": {},
   "outputs": [],
   "source": [
    "import google.oauth2.credentials\n",
    "\n",
    "key_path='/home/portfolio/GCP-Templates/cloud_function/from_drive_to_storage/function/kk.json'\n",
    "credentials = google.oauth2.credentials.Credentials(key_path)"
   ]
  },
  {
   "cell_type": "code",
   "execution_count": 45,
   "metadata": {},
   "outputs": [],
   "source": [
    "credentials._refresh_token\n"
   ]
  },
  {
   "cell_type": "code",
   "execution_count": 53,
   "metadata": {},
   "outputs": [
    {
     "data": {
      "text/plain": [
       "<google.oauth2.credentials.Credentials at 0x7f95387b5d00>"
      ]
     },
     "execution_count": 53,
     "metadata": {},
     "output_type": "execute_result"
    }
   ],
   "source": [
    "credentials = google.oauth2.credentials.Credentials(\n",
    "    \"d4PMufmHKVwcPc1IY40n0UnduTfjTd\",\n",
    "    refresh_token=None,\n",
    "    token_uri=\"https://oauth2.googleapis.com/token\",\n",
    "    client_id='318040672941-jbi4pi3rhckhlcpv5cp32v0c01lofqml.apps.googleusercontent.com',\n",
    "    client_secret='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')\n",
    "credentials"
   ]
  },
  {
   "cell_type": "code",
   "execution_count": 70,
   "metadata": {},
   "outputs": [],
   "source": [
    "import google.oauth2.credentials\n",
    "import google_auth_oauthlib.flow\n",
    "\n",
    "# Use the client_secret.json file to identify the application requesting\n",
    "# authorization. The client ID (from that file) and access scopes are required.\n",
    "key_path='/home/portfolio/GCP-Templates/cloud_function/from_drive_to_storage/function/kk.json'\n",
    "\n",
    "flow = google_auth_oauthlib.flow.Flow.from_client_secrets_file(\n",
    "    key_path,\n",
    "    scopes=['https://www.googleapis.com/auth/drive.metadata.readonly'])\n",
    "\n",
    "# Indicate where the API server will redirect the user after the user completes\n",
    "# the authorization flow. The redirect URI is required. The value must exactly\n",
    "# match one of the authorized redirect URIs for the OAuth 2.0 client, which you\n",
    "# configured in the API Console. If this value doesn't match an authorized URI,\n",
    "# you will get a 'redirect_uri_mismatch' error.\n",
    "flow.redirect_uri = 'https://www.example.com/oauth2callback'\n",
    "\n",
    "# Generate URL for request to Google's OAuth 2.0 server.\n",
    "# Use kwargs to set optional request parameters.\n",
    "authorization_url, state = flow.authorization_url(\n",
    "    # Enable offline access so that you can refresh an access token without\n",
    "    # re-prompting the user for permission. Recommended for web server apps.\n",
    "    access_type='offline',\n",
    "    # Enable incremental authorization. Recommended as a best practice.\n",
    "    include_granted_scopes='true')"
   ]
  },
  {
   "cell_type": "code",
   "execution_count": 76,
   "metadata": {},
   "outputs": [
    {
     "name": "stdout",
     "output_type": "stream",
     "text": [
      "Please visit this URL to authorize this application: https://accounts.google.com/o/oauth2/auth?response_type=code&client_id=318040672941-jbi4pi3rhckhlcpv5cp32v0c01lofqml.apps.googleusercontent.com&redirect_uri=http%3A%2F%2Flocalhost%3A50773%2F&scope=https%3A%2F%2Fwww.googleapis.com%2Fauth%2Fdrive+https%3A%2F%2Fwww.googleapis.com%2Fauth%2Fdrive.file+https%3A%2F%2Fwww.googleapis.com%2Fauth%2Fdrive.readonly+https%3A%2F%2Fwww.googleapis.com%2Fauth%2Fdrive.metadata.readonly+https%3A%2F%2Fwww.googleapis.com%2Fauth%2Fdrive.appdata+https%3A%2F%2Fwww.googleapis.com%2Fauth%2Fdrive.metadata+https%3A%2F%2Fwww.googleapis.com%2Fauth%2Fdrive.photos.readonly&state=ujSNj34HYooyY32DEJt0rN1HAfUPZQ&access_type=offline\n"
     ]
    }
   ],
   "source": [
    "from googleapiclient.discovery import build\n",
    "\n",
    "from google_auth_oauthlib.flow import InstalledAppFlow\n",
    "\n",
    "flow = InstalledAppFlow.from_client_secrets_file(\n",
    "                key_path, config.SCOPES)\n",
    "creds = flow.run_local_server(port=0)\n",
    "service=build('drive', 'v3', credentials=creds)\n",
    "results = service.files().list(\n",
    "        pageSize=5, fields=\"nextPageToken, files(id, name, mimeType, size, parents, modifiedTime)\").execute()\n",
    "    # get the results\n",
    "items = results.get('files', [])\n",
    "    # list all 20 files & folders\n",
    "items"
   ]
  },
  {
   "cell_type": "code",
   "execution_count": 84,
   "metadata": {},
   "outputs": [
    {
     "name": "stdout",
     "output_type": "stream",
     "text": [
      "Please visit this URL to authorize this application: https://accounts.google.com/o/oauth2/auth?response_type=code&client_id=318040672941-jbi4pi3rhckhlcpv5cp32v0c01lofqml.apps.googleusercontent.com&redirect_uri=http%3A%2F%2Flocalhost%3A34619%2F&scope=https%3A%2F%2Fwww.googleapis.com%2Fauth%2Fspreadsheets.readonly&state=XcXfyno1ZLhyZpkaNFpQFEiJeidcax&access_type=offline\n"
     ]
    },
    {
     "ename": "KeyboardInterrupt",
     "evalue": "",
     "output_type": "error",
     "traceback": [
      "\u001b[0;31m---------------------------------------------------------------------------\u001b[0m",
      "\u001b[0;31mKeyboardInterrupt\u001b[0m                         Traceback (most recent call last)",
      "Cell \u001b[0;32mIn[84], line 52\u001b[0m\n\u001b[1;32m     50\u001b[0m     \u001b[39mexcept\u001b[39;00m HttpError \u001b[39mas\u001b[39;00m err:\n\u001b[1;32m     51\u001b[0m         \u001b[39mprint\u001b[39m(err)\n\u001b[0;32m---> 52\u001b[0m main()\n",
      "Cell \u001b[0;32mIn[84], line 36\u001b[0m, in \u001b[0;36mmain\u001b[0;34m()\u001b[0m\n\u001b[1;32m     33\u001b[0m \u001b[39melse\u001b[39;00m:\n\u001b[1;32m     34\u001b[0m     flow \u001b[39m=\u001b[39m InstalledAppFlow\u001b[39m.\u001b[39mfrom_client_secrets_file(\n\u001b[1;32m     35\u001b[0m         \u001b[39m'\u001b[39m\u001b[39mcredentials.json\u001b[39m\u001b[39m'\u001b[39m, SCOPES)\n\u001b[0;32m---> 36\u001b[0m     creds \u001b[39m=\u001b[39m flow\u001b[39m.\u001b[39;49mrun_local_server(port\u001b[39m=\u001b[39;49m\u001b[39m0\u001b[39;49m)\n\u001b[1;32m     37\u001b[0m \u001b[39m# Save the credentials for the next run\u001b[39;00m\n\u001b[1;32m     38\u001b[0m \u001b[39mwith\u001b[39;00m \u001b[39mopen\u001b[39m(\u001b[39m'\u001b[39m\u001b[39mtoken.json\u001b[39m\u001b[39m'\u001b[39m, \u001b[39m'\u001b[39m\u001b[39mw\u001b[39m\u001b[39m'\u001b[39m) \u001b[39mas\u001b[39;00m token:\n",
      "File \u001b[0;32m/home/gcp-templates/lib/python3.9/site-packages/google_auth_oauthlib/flow.py:442\u001b[0m, in \u001b[0;36mInstalledAppFlow.run_local_server\u001b[0;34m(self, host, bind_addr, port, authorization_prompt_message, success_message, open_browser, redirect_uri_trailing_slash, timeout_seconds, **kwargs)\u001b[0m\n\u001b[1;32m    439\u001b[0m     \u001b[39mprint\u001b[39m(authorization_prompt_message\u001b[39m.\u001b[39mformat(url\u001b[39m=\u001b[39mauth_url))\n\u001b[1;32m    441\u001b[0m local_server\u001b[39m.\u001b[39mtimeout \u001b[39m=\u001b[39m timeout_seconds\n\u001b[0;32m--> 442\u001b[0m local_server\u001b[39m.\u001b[39;49mhandle_request()\n\u001b[1;32m    444\u001b[0m \u001b[39m# Note: using https here because oauthlib is very picky that\u001b[39;00m\n\u001b[1;32m    445\u001b[0m \u001b[39m# OAuth 2.0 should only occur over https.\u001b[39;00m\n\u001b[1;32m    446\u001b[0m authorization_response \u001b[39m=\u001b[39m wsgi_app\u001b[39m.\u001b[39mlast_request_uri\u001b[39m.\u001b[39mreplace(\u001b[39m\"\u001b[39m\u001b[39mhttp\u001b[39m\u001b[39m\"\u001b[39m, \u001b[39m\"\u001b[39m\u001b[39mhttps\u001b[39m\u001b[39m\"\u001b[39m)\n",
      "File \u001b[0;32m/usr/lib/python3.9/socketserver.py:294\u001b[0m, in \u001b[0;36mBaseServer.handle_request\u001b[0;34m(self)\u001b[0m\n\u001b[1;32m    291\u001b[0m selector\u001b[39m.\u001b[39mregister(\u001b[39mself\u001b[39m, selectors\u001b[39m.\u001b[39mEVENT_READ)\n\u001b[1;32m    293\u001b[0m \u001b[39mwhile\u001b[39;00m \u001b[39mTrue\u001b[39;00m:\n\u001b[0;32m--> 294\u001b[0m     ready \u001b[39m=\u001b[39m selector\u001b[39m.\u001b[39;49mselect(timeout)\n\u001b[1;32m    295\u001b[0m     \u001b[39mif\u001b[39;00m ready:\n\u001b[1;32m    296\u001b[0m         \u001b[39mreturn\u001b[39;00m \u001b[39mself\u001b[39m\u001b[39m.\u001b[39m_handle_request_noblock()\n",
      "File \u001b[0;32m/usr/lib/python3.9/selectors.py:416\u001b[0m, in \u001b[0;36m_PollLikeSelector.select\u001b[0;34m(self, timeout)\u001b[0m\n\u001b[1;32m    414\u001b[0m ready \u001b[39m=\u001b[39m []\n\u001b[1;32m    415\u001b[0m \u001b[39mtry\u001b[39;00m:\n\u001b[0;32m--> 416\u001b[0m     fd_event_list \u001b[39m=\u001b[39m \u001b[39mself\u001b[39;49m\u001b[39m.\u001b[39;49m_selector\u001b[39m.\u001b[39;49mpoll(timeout)\n\u001b[1;32m    417\u001b[0m \u001b[39mexcept\u001b[39;00m \u001b[39mInterruptedError\u001b[39;00m:\n\u001b[1;32m    418\u001b[0m     \u001b[39mreturn\u001b[39;00m ready\n",
      "\u001b[0;31mKeyboardInterrupt\u001b[0m: "
     ]
    }
   ],
   "source": [
    "\n",
    "from __future__ import print_function\n",
    "\n",
    "import os.path\n",
    "\n",
    "from google.auth.transport.requests import Request\n",
    "from google.oauth2.credentials import Credentials\n",
    "from google_auth_oauthlib.flow import InstalledAppFlow\n",
    "from googleapiclient.discovery import build\n",
    "from googleapiclient.errors import HttpError\n",
    "\n",
    "# If modifying these scopes, delete the file token.json.\n",
    "SCOPES = ['https://www.googleapis.com/auth/spreadsheets.readonly']\n",
    "\n",
    "# The ID and range of a sample spreadsheet.\n",
    "SAMPLE_SPREADSHEET_ID = '1BxiMVs0XRA5nFMdKvBdBZjgmUUqptlbs74OgvE2upms'\n",
    "SAMPLE_RANGE_NAME = 'Class Data!A2:E'\n",
    "\n",
    "\n",
    "def main():\n",
    "    \"\"\"Shows basic usage of the Sheets API.\n",
    "    Prints values from a sample spreadsheet.\n",
    "    \"\"\"\n",
    "    creds = None\n",
    "    # The file token.json stores the user's access and refresh tokens, and is\n",
    "    # created automatically when the authorization flow completes for the first\n",
    "    # time.\n",
    "    if os.path.exists('token.json'):\n",
    "        creds = Credentials.from_authorized_user_file('token.json', SCOPES)\n",
    "    # If there are no (valid) credentials available, let the user log in.\n",
    "    if not creds or not creds.valid:\n",
    "        if creds and creds.expired and creds.refresh_token:\n",
    "            creds.refresh(Request())\n",
    "        else:\n",
    "            flow = InstalledAppFlow.from_client_secrets_file(\n",
    "                'credentials.json', SCOPES)\n",
    "            creds = flow.run_local_server(port=0)\n",
    "        # Save the credentials for the next run\n",
    "        with open('token.json', 'w') as token:\n",
    "            token.write(creds.to_json())\n",
    "\n",
    "    try:\n",
    "        service = build('drive', 'v3', credentials=creds)\n",
    "        results = service.files().list(\n",
    "            pageSize=1, fields=\"nextPageToken, files(id, name, mimeType, size, parents, modifiedTime)\").execute()\n",
    "        # get the results\n",
    "        items = results.get('files', [])\n",
    "        # list all 20 files & folders\n",
    "        print(items)\n",
    "\n",
    "    except HttpError as err:\n",
    "        print(err)\n",
    "main()"
   ]
  },
  {
   "cell_type": "code",
   "execution_count": 82,
   "metadata": {},
   "outputs": [
    {
     "data": {
      "text/plain": [
       "[{'mimeType': 'text/csv',\n",
       "  'parents': ['0AE_1lvoLHZoqUk9PVA'],\n",
       "  'size': '32036',\n",
       "  'id': '1AlS6e0U9cwnEpN7vLpXV_XUVkL6boFhR',\n",
       "  'name': 'Copia de ABA.csv',\n",
       "  'modifiedTime': '2023-02-28T09:26:39.260Z'}]"
      ]
     },
     "execution_count": 82,
     "metadata": {},
     "output_type": "execute_result"
    }
   ],
   "source": [
    "from oauth2client import client, file, tools\n",
    "\n",
    "import pickle\n",
    "import os\n",
    "from googleapiclient.discovery import build\n",
    "from google_auth_oauthlib.flow import InstalledAppFlow\n",
    "from google.auth.transport.requests import Request\n",
    "\n",
    "# If modifying these scopes, delete the file token.pickle.\n",
    "SCOPES = ['https://www.googleapis.com/auth/drive.metadata.readonly']\n",
    "\n",
    "\n",
    "def get_gdrive_service():\n",
    "    creds = None\n",
    "    # The file token.pickle stores the user's access and refresh tokens, and is\n",
    "    # created automatically when the authorization flow completes for the first\n",
    "    # time.\n",
    "    if os.path.exists('token.pickle'):\n",
    "        with open('token.pickle', 'rb') as token:\n",
    "            creds = pickle.load(token)\n",
    "    # If there are no (valid) credentials available, let the user log in.\n",
    "    if not creds or not creds.valid:\n",
    "        if creds and creds.expired and creds.refresh_token:\n",
    "            creds.refresh(Request())\n",
    "        else:\n",
    "            flow = InstalledAppFlow.from_client_secrets_file(\n",
    "                'credentials.json', SCOPES)\n",
    "            creds = flow.run_local_server(port=0)\n",
    "            name =\"a\"\n",
    "            storage = file.Storage(name + \".dat\")\n",
    "            creds = tools.run_flow(flow, storage)\n",
    "\n",
    "        # Save the credentials for the next run\n",
    "        with open('token.pickle', 'wb') as token:\n",
    "            pickle.dump(creds, token)\n",
    "    # return Google Drive API service\n",
    "    return build('drive', 'v3', credentials=creds)\n",
    "\n",
    "\n",
    "\n",
    "\n",
    "\"\"\"Shows basic usage of the Drive v3 API.\n",
    "Prints the names and ids of the first 5 files the user has access to.\n",
    "\"\"\"\n",
    "service = get_gdrive_service()\n",
    "# Call the Drive v3 API\n",
    "results = service.files().list(\n",
    "    pageSize=1, fields=\"nextPageToken, files(id, name, mimeType, size, parents, modifiedTime)\").execute()\n",
    "# get the results\n",
    "items = results.get('files', [])\n",
    "# list all 20 files & folders\n",
    "items\n"
   ]
  },
  {
   "cell_type": "code",
   "execution_count": 68,
   "metadata": {},
   "outputs": [],
   "source": [
    "\n",
    "import argparse\n",
    "import os\n",
    "\n",
    "from googleapiclient import discovery\n",
    "from googleapiclient.http import build_http\n",
    "def init(\n",
    "     name, version,  scope=None, parents=[], discovery_filename=None\n",
    "):\n",
    "    \"\"\"A common initialization routine for samples.\n",
    "    Many of the sample applications do the same initialization, which has now\n",
    "    been consolidated into this function. This function uses common idioms found\n",
    "    in almost all the samples, i.e. for an API with name 'apiname', the\n",
    "    credentials are stored in a file named apiname.dat, and the\n",
    "    client_secrets.json file is stored in the same directory as the application\n",
    "    main file.\n",
    "    Args:\n",
    "      argv: list of string, the command-line parameters of the application.\n",
    "      name: string, name of the API.\n",
    "      version: string, version of the API.\n",
    "      doc: string, description of the application. Usually set to __doc__.\n",
    "      file: string, filename of the application. Usually set to __file__.\n",
    "      parents: list of argparse.ArgumentParser, additional command-line flags.\n",
    "      scope: string, The OAuth scope used.\n",
    "      discovery_filename: string, name of local discovery file (JSON). Use when discovery doc not available via URL.\n",
    "    Returns:\n",
    "      A tuple of (service, flags), where service is the service object and flags\n",
    "      is the parsed command-line flags.\n",
    "    \"\"\"\n",
    "    try:\n",
    "        from oauth2client import client, file, tools\n",
    "    except ImportError:\n",
    "        raise ImportError(\n",
    "            \"googleapiclient.sample_tools requires oauth2client. Please install oauth2client and try again.\"\n",
    "        )\n",
    "\n",
    "    if scope is None:\n",
    "        scope = \"https://www.googleapis.com/auth/\" + name\n",
    "\n",
    "    # Parser command-line arguments.\n",
    "    parent_parsers = [tools.argparser]\n",
    "    parent_parsers.extend(parents)\n",
    "    \n",
    "    # flags = parser.parse_args(argv[1:])\n",
    "\n",
    "    # Name of a file containing the OAuth 2.0 information for this\n",
    "    # application, including client_id and client_secret, which are found\n",
    "    # on the API Access tab on the Google APIs\n",
    "    # Console <http://code.google.com/apis/console>.\n",
    "    client_secrets = key_path\n",
    "\n",
    "    # Set up a Flow object to be used if we need to authenticate.\n",
    "    flow = client.flow_from_clientsecrets(\n",
    "        client_secrets, scope=scope, message=tools.message_if_missing(client_secrets)\n",
    "    )\n",
    "\n",
    "    # Prepare credentials, and authorize HTTP object with them.\n",
    "    # If the credentials don't exist or are invalid run through the native client\n",
    "    # flow. The Storage object will ensure that if successful the good\n",
    "    # credentials will get written back to a file.\n",
    "    http = credentials.authorize(http=build_http())\n",
    "\n",
    "    if discovery_filename is None:\n",
    "        # Construct a service object via the discovery service.\n",
    "        service = discovery.build(name, version, http=http)\n",
    "    else:\n",
    "        # Construct a service object using a local discovery document file.\n",
    "        with open(discovery_filename) as discovery_file:\n",
    "            service = discovery.build_from_document(\n",
    "                discovery_file.read(), base=\"https://www.googleapis.com/\", http=http\n",
    "            )\n",
    "    return (service, _)"
   ]
  },
  {
   "cell_type": "code",
   "execution_count": 69,
   "metadata": {},
   "outputs": [
    {
     "ename": "AttributeError",
     "evalue": "'Credentials' object has no attribute 'authorize'",
     "output_type": "error",
     "traceback": [
      "\u001b[0;31m---------------------------------------------------------------------------\u001b[0m",
      "\u001b[0;31mAttributeError\u001b[0m                            Traceback (most recent call last)",
      "Cell \u001b[0;32mIn[69], line 1\u001b[0m\n\u001b[0;32m----> 1\u001b[0m service, flags \u001b[39m=\u001b[39m init(\n\u001b[1;32m      2\u001b[0m         \u001b[39m\"\u001b[39;49m\u001b[39mdrive\u001b[39;49m\u001b[39m\"\u001b[39;49m,\n\u001b[1;32m      3\u001b[0m         \u001b[39m\"\u001b[39;49m\u001b[39mv3\u001b[39;49m\u001b[39m\"\u001b[39;49m,                \n\u001b[1;32m      4\u001b[0m         scope\u001b[39m=\u001b[39;49m\u001b[39m\"\u001b[39;49m\u001b[39mhttps://www.googleapis.com/auth/drive.readonly\u001b[39;49m\u001b[39m\"\u001b[39;49m,\n\u001b[1;32m      5\u001b[0m     )\n",
      "Cell \u001b[0;32mIn[68], line 60\u001b[0m, in \u001b[0;36minit\u001b[0;34m(name, version, scope, parents, discovery_filename)\u001b[0m\n\u001b[1;32m     52\u001b[0m flow \u001b[39m=\u001b[39m client\u001b[39m.\u001b[39mflow_from_clientsecrets(\n\u001b[1;32m     53\u001b[0m     client_secrets, scope\u001b[39m=\u001b[39mscope, message\u001b[39m=\u001b[39mtools\u001b[39m.\u001b[39mmessage_if_missing(client_secrets)\n\u001b[1;32m     54\u001b[0m )\n\u001b[1;32m     56\u001b[0m \u001b[39m# Prepare credentials, and authorize HTTP object with them.\u001b[39;00m\n\u001b[1;32m     57\u001b[0m \u001b[39m# If the credentials don't exist or are invalid run through the native client\u001b[39;00m\n\u001b[1;32m     58\u001b[0m \u001b[39m# flow. The Storage object will ensure that if successful the good\u001b[39;00m\n\u001b[1;32m     59\u001b[0m \u001b[39m# credentials will get written back to a file.\u001b[39;00m\n\u001b[0;32m---> 60\u001b[0m http \u001b[39m=\u001b[39m credentials\u001b[39m.\u001b[39;49mauthorize(http\u001b[39m=\u001b[39mbuild_http())\n\u001b[1;32m     62\u001b[0m \u001b[39mif\u001b[39;00m discovery_filename \u001b[39mis\u001b[39;00m \u001b[39mNone\u001b[39;00m:\n\u001b[1;32m     63\u001b[0m     \u001b[39m# Construct a service object via the discovery service.\u001b[39;00m\n\u001b[1;32m     64\u001b[0m     service \u001b[39m=\u001b[39m discovery\u001b[39m.\u001b[39mbuild(name, version, http\u001b[39m=\u001b[39mhttp)\n",
      "\u001b[0;31mAttributeError\u001b[0m: 'Credentials' object has no attribute 'authorize'"
     ]
    }
   ],
   "source": [
    "service, flags = init(\n",
    "        \"drive\",\n",
    "        \"v3\",                \n",
    "        scope=\"https://www.googleapis.com/auth/drive.readonly\",\n",
    "    )\n"
   ]
  },
  {
   "cell_type": "code",
   "execution_count": null,
   "metadata": {},
   "outputs": [],
   "source": []
  },
  {
   "cell_type": "markdown",
   "metadata": {},
   "source": []
  },
  {
   "cell_type": "code",
   "execution_count": 26,
   "metadata": {},
   "outputs": [
    {
     "name": "stdout",
     "output_type": "stream",
     "text": [
      "[]\n"
     ]
    }
   ],
   "source": [
    "FromDriveToStorage.run()"
   ]
  },
  {
   "cell_type": "code",
   "execution_count": 55,
   "metadata": {},
   "outputs": [],
   "source": [
    "from googleapiclient.discovery import build\n",
    "service = build('drive', 'v3', credentials=credentials)"
   ]
  },
  {
   "cell_type": "code",
   "execution_count": 56,
   "metadata": {},
   "outputs": [
    {
     "ename": "RefreshError",
     "evalue": "The credentials do not contain the necessary fields need to refresh the access token. You must specify refresh_token, token_uri, client_id, and client_secret.",
     "output_type": "error",
     "traceback": [
      "\u001b[0;31m---------------------------------------------------------------------------\u001b[0m",
      "\u001b[0;31mRefreshError\u001b[0m                              Traceback (most recent call last)",
      "Cell \u001b[0;32mIn[56], line 2\u001b[0m\n\u001b[1;32m      1\u001b[0m folder_ids \u001b[39m=\u001b[39m\u001b[39m\"\u001b[39m\u001b[39m1uymD6k_4JTTP4YuTP_NBTAftS4nteU5o\u001b[39m\u001b[39m\"\u001b[39m\n\u001b[0;32m----> 2\u001b[0m service\u001b[39m.\u001b[39;49mfiles()\u001b[39m.\u001b[39;49mlist(q\u001b[39m=\u001b[39;49m\u001b[39mf\u001b[39;49m\u001b[39m\"\u001b[39;49m\u001b[39m'\u001b[39;49m\u001b[39m{\u001b[39;49;00mfolder_ids\u001b[39m}\u001b[39;49;00m\u001b[39m'\u001b[39;49m\u001b[39m in parents\u001b[39;49m\u001b[39m\"\u001b[39;49m)\u001b[39m.\u001b[39;49mexecute()\n",
      "File \u001b[0;32m/home/gcp-templates/lib/python3.9/site-packages/googleapiclient/_helpers.py:130\u001b[0m, in \u001b[0;36mpositional.<locals>.positional_decorator.<locals>.positional_wrapper\u001b[0;34m(*args, **kwargs)\u001b[0m\n\u001b[1;32m    128\u001b[0m     \u001b[39melif\u001b[39;00m positional_parameters_enforcement \u001b[39m==\u001b[39m POSITIONAL_WARNING:\n\u001b[1;32m    129\u001b[0m         logger\u001b[39m.\u001b[39mwarning(message)\n\u001b[0;32m--> 130\u001b[0m \u001b[39mreturn\u001b[39;00m wrapped(\u001b[39m*\u001b[39;49margs, \u001b[39m*\u001b[39;49m\u001b[39m*\u001b[39;49mkwargs)\n",
      "File \u001b[0;32m/home/gcp-templates/lib/python3.9/site-packages/googleapiclient/http.py:923\u001b[0m, in \u001b[0;36mHttpRequest.execute\u001b[0;34m(self, http, num_retries)\u001b[0m\n\u001b[1;32m    920\u001b[0m     \u001b[39mself\u001b[39m\u001b[39m.\u001b[39mheaders[\u001b[39m\"\u001b[39m\u001b[39mcontent-length\u001b[39m\u001b[39m\"\u001b[39m] \u001b[39m=\u001b[39m \u001b[39mstr\u001b[39m(\u001b[39mlen\u001b[39m(\u001b[39mself\u001b[39m\u001b[39m.\u001b[39mbody))\n\u001b[1;32m    922\u001b[0m \u001b[39m# Handle retries for server-side errors.\u001b[39;00m\n\u001b[0;32m--> 923\u001b[0m resp, content \u001b[39m=\u001b[39m _retry_request(\n\u001b[1;32m    924\u001b[0m     http,\n\u001b[1;32m    925\u001b[0m     num_retries,\n\u001b[1;32m    926\u001b[0m     \u001b[39m\"\u001b[39;49m\u001b[39mrequest\u001b[39;49m\u001b[39m\"\u001b[39;49m,\n\u001b[1;32m    927\u001b[0m     \u001b[39mself\u001b[39;49m\u001b[39m.\u001b[39;49m_sleep,\n\u001b[1;32m    928\u001b[0m     \u001b[39mself\u001b[39;49m\u001b[39m.\u001b[39;49m_rand,\n\u001b[1;32m    929\u001b[0m     \u001b[39mstr\u001b[39;49m(\u001b[39mself\u001b[39;49m\u001b[39m.\u001b[39;49muri),\n\u001b[1;32m    930\u001b[0m     method\u001b[39m=\u001b[39;49m\u001b[39mstr\u001b[39;49m(\u001b[39mself\u001b[39;49m\u001b[39m.\u001b[39;49mmethod),\n\u001b[1;32m    931\u001b[0m     body\u001b[39m=\u001b[39;49m\u001b[39mself\u001b[39;49m\u001b[39m.\u001b[39;49mbody,\n\u001b[1;32m    932\u001b[0m     headers\u001b[39m=\u001b[39;49m\u001b[39mself\u001b[39;49m\u001b[39m.\u001b[39;49mheaders,\n\u001b[1;32m    933\u001b[0m )\n\u001b[1;32m    935\u001b[0m \u001b[39mfor\u001b[39;00m callback \u001b[39min\u001b[39;00m \u001b[39mself\u001b[39m\u001b[39m.\u001b[39mresponse_callbacks:\n\u001b[1;32m    936\u001b[0m     callback(resp)\n",
      "File \u001b[0;32m/home/gcp-templates/lib/python3.9/site-packages/googleapiclient/http.py:191\u001b[0m, in \u001b[0;36m_retry_request\u001b[0;34m(http, num_retries, req_type, sleep, rand, uri, method, *args, **kwargs)\u001b[0m\n\u001b[1;32m    189\u001b[0m \u001b[39mtry\u001b[39;00m:\n\u001b[1;32m    190\u001b[0m     exception \u001b[39m=\u001b[39m \u001b[39mNone\u001b[39;00m\n\u001b[0;32m--> 191\u001b[0m     resp, content \u001b[39m=\u001b[39m http\u001b[39m.\u001b[39;49mrequest(uri, method, \u001b[39m*\u001b[39;49margs, \u001b[39m*\u001b[39;49m\u001b[39m*\u001b[39;49mkwargs)\n\u001b[1;32m    192\u001b[0m \u001b[39m# Retry on SSL errors and socket timeout errors.\u001b[39;00m\n\u001b[1;32m    193\u001b[0m \u001b[39mexcept\u001b[39;00m _ssl_SSLError \u001b[39mas\u001b[39;00m ssl_error:\n",
      "File \u001b[0;32m/home/gcp-templates/lib/python3.9/site-packages/google_auth_httplib2.py:245\u001b[0m, in \u001b[0;36mAuthorizedHttp.request\u001b[0;34m(self, uri, method, body, headers, redirections, connection_type, **kwargs)\u001b[0m\n\u001b[1;32m    233\u001b[0m \u001b[39mif\u001b[39;00m (\n\u001b[1;32m    234\u001b[0m     response\u001b[39m.\u001b[39mstatus \u001b[39min\u001b[39;00m \u001b[39mself\u001b[39m\u001b[39m.\u001b[39m_refresh_status_codes\n\u001b[1;32m    235\u001b[0m     \u001b[39mand\u001b[39;00m _credential_refresh_attempt \u001b[39m<\u001b[39m \u001b[39mself\u001b[39m\u001b[39m.\u001b[39m_max_refresh_attempts\n\u001b[1;32m    236\u001b[0m ):\n\u001b[1;32m    238\u001b[0m     _LOGGER\u001b[39m.\u001b[39minfo(\n\u001b[1;32m    239\u001b[0m         \u001b[39m\"\u001b[39m\u001b[39mRefreshing credentials due to a \u001b[39m\u001b[39m%s\u001b[39;00m\u001b[39m response. Attempt \u001b[39m\u001b[39m%s\u001b[39;00m\u001b[39m/\u001b[39m\u001b[39m%s\u001b[39;00m\u001b[39m.\u001b[39m\u001b[39m\"\u001b[39m,\n\u001b[1;32m    240\u001b[0m         response\u001b[39m.\u001b[39mstatus,\n\u001b[1;32m    241\u001b[0m         _credential_refresh_attempt \u001b[39m+\u001b[39m \u001b[39m1\u001b[39m,\n\u001b[1;32m    242\u001b[0m         \u001b[39mself\u001b[39m\u001b[39m.\u001b[39m_max_refresh_attempts,\n\u001b[1;32m    243\u001b[0m     )\n\u001b[0;32m--> 245\u001b[0m     \u001b[39mself\u001b[39;49m\u001b[39m.\u001b[39;49mcredentials\u001b[39m.\u001b[39;49mrefresh(\u001b[39mself\u001b[39;49m\u001b[39m.\u001b[39;49m_request)\n\u001b[1;32m    247\u001b[0m     \u001b[39m# Restore the body's stream position if needed.\u001b[39;00m\n\u001b[1;32m    248\u001b[0m     \u001b[39mif\u001b[39;00m body_stream_position \u001b[39mis\u001b[39;00m \u001b[39mnot\u001b[39;00m \u001b[39mNone\u001b[39;00m:\n",
      "File \u001b[0;32m/home/gcp-templates/lib/python3.9/site-packages/google/oauth2/credentials.py:323\u001b[0m, in \u001b[0;36mCredentials.refresh\u001b[0;34m(self, request)\u001b[0m\n\u001b[1;32m    315\u001b[0m     \u001b[39mreturn\u001b[39;00m\n\u001b[1;32m    317\u001b[0m \u001b[39mif\u001b[39;00m (\n\u001b[1;32m    318\u001b[0m     \u001b[39mself\u001b[39m\u001b[39m.\u001b[39m_refresh_token \u001b[39mis\u001b[39;00m \u001b[39mNone\u001b[39;00m\n\u001b[1;32m    319\u001b[0m     \u001b[39mor\u001b[39;00m \u001b[39mself\u001b[39m\u001b[39m.\u001b[39m_token_uri \u001b[39mis\u001b[39;00m \u001b[39mNone\u001b[39;00m\n\u001b[1;32m    320\u001b[0m     \u001b[39mor\u001b[39;00m \u001b[39mself\u001b[39m\u001b[39m.\u001b[39m_client_id \u001b[39mis\u001b[39;00m \u001b[39mNone\u001b[39;00m\n\u001b[1;32m    321\u001b[0m     \u001b[39mor\u001b[39;00m \u001b[39mself\u001b[39m\u001b[39m.\u001b[39m_client_secret \u001b[39mis\u001b[39;00m \u001b[39mNone\u001b[39;00m\n\u001b[1;32m    322\u001b[0m ):\n\u001b[0;32m--> 323\u001b[0m     \u001b[39mraise\u001b[39;00m exceptions\u001b[39m.\u001b[39mRefreshError(\n\u001b[1;32m    324\u001b[0m         \u001b[39m\"\u001b[39m\u001b[39mThe credentials do not contain the necessary fields need to \u001b[39m\u001b[39m\"\u001b[39m\n\u001b[1;32m    325\u001b[0m         \u001b[39m\"\u001b[39m\u001b[39mrefresh the access token. You must specify refresh_token, \u001b[39m\u001b[39m\"\u001b[39m\n\u001b[1;32m    326\u001b[0m         \u001b[39m\"\u001b[39m\u001b[39mtoken_uri, client_id, and client_secret.\u001b[39m\u001b[39m\"\u001b[39m\n\u001b[1;32m    327\u001b[0m     )\n\u001b[1;32m    329\u001b[0m (\n\u001b[1;32m    330\u001b[0m     access_token,\n\u001b[1;32m    331\u001b[0m     refresh_token,\n\u001b[0;32m   (...)\u001b[0m\n\u001b[1;32m    343\u001b[0m     enable_reauth_refresh\u001b[39m=\u001b[39m\u001b[39mself\u001b[39m\u001b[39m.\u001b[39m_enable_reauth_refresh,\n\u001b[1;32m    344\u001b[0m )\n\u001b[1;32m    346\u001b[0m \u001b[39mself\u001b[39m\u001b[39m.\u001b[39mtoken \u001b[39m=\u001b[39m access_token\n",
      "\u001b[0;31mRefreshError\u001b[0m: The credentials do not contain the necessary fields need to refresh the access token. You must specify refresh_token, token_uri, client_id, and client_secret."
     ]
    }
   ],
   "source": [
    "folder_ids =\"1uymD6k_4JTTP4YuTP_NBTAftS4nteU5o\"\n",
    "service.files().list(q=f\"'{folder_ids}' in parents\").execute()"
   ]
  },
  {
   "cell_type": "code",
   "execution_count": 34,
   "metadata": {},
   "outputs": [
    {
     "ename": "MalformedError",
     "evalue": "Service account info was not in the expected format, missing fields client_email.",
     "output_type": "error",
     "traceback": [
      "\u001b[0;31m---------------------------------------------------------------------------\u001b[0m",
      "\u001b[0;31mMalformedError\u001b[0m                            Traceback (most recent call last)",
      "Cell \u001b[0;32mIn[34], line 4\u001b[0m\n\u001b[1;32m      1\u001b[0m \u001b[39mfrom\u001b[39;00m \u001b[39mgoogleapiclient\u001b[39;00m\u001b[39m.\u001b[39;00m\u001b[39mdiscovery\u001b[39;00m \u001b[39mimport\u001b[39;00m build\n\u001b[1;32m      2\u001b[0m \u001b[39mfrom\u001b[39;00m \u001b[39mgoogleapiclient\u001b[39;00m\u001b[39m.\u001b[39;00m\u001b[39merrors\u001b[39;00m \u001b[39mimport\u001b[39;00m HttpError\n\u001b[0;32m----> 4\u001b[0m credentials \u001b[39m=\u001b[39m service_account\u001b[39m.\u001b[39;49mCredentials\u001b[39m.\u001b[39;49mfrom_service_account_file(key_path) \u001b[39m# If you're using local machine    \u001b[39;00m\n\u001b[1;32m      5\u001b[0m scoped_credentials \u001b[39m=\u001b[39m credentials\u001b[39m.\u001b[39mwith_scopes(config\u001b[39m.\u001b[39mSCOPES)    \n\u001b[1;32m      9\u001b[0m \u001b[39mtry\u001b[39;00m:\n",
      "File \u001b[0;32m/home/gcp-templates/lib/python3.9/site-packages/google/oauth2/service_account.py:241\u001b[0m, in \u001b[0;36mCredentials.from_service_account_file\u001b[0;34m(cls, filename, **kwargs)\u001b[0m\n\u001b[1;32m    229\u001b[0m \u001b[39m@classmethod\u001b[39m\n\u001b[1;32m    230\u001b[0m \u001b[39mdef\u001b[39;00m \u001b[39mfrom_service_account_file\u001b[39m(\u001b[39mcls\u001b[39m, filename, \u001b[39m*\u001b[39m\u001b[39m*\u001b[39mkwargs):\n\u001b[1;32m    231\u001b[0m \u001b[39m    \u001b[39m\u001b[39m\"\"\"Creates a Credentials instance from a service account json file.\u001b[39;00m\n\u001b[1;32m    232\u001b[0m \n\u001b[1;32m    233\u001b[0m \u001b[39m    Args:\u001b[39;00m\n\u001b[0;32m   (...)\u001b[0m\n\u001b[1;32m    239\u001b[0m \u001b[39m            credentials.\u001b[39;00m\n\u001b[1;32m    240\u001b[0m \u001b[39m    \"\"\"\u001b[39;00m\n\u001b[0;32m--> 241\u001b[0m     info, signer \u001b[39m=\u001b[39m _service_account_info\u001b[39m.\u001b[39;49mfrom_filename(\n\u001b[1;32m    242\u001b[0m         filename, require\u001b[39m=\u001b[39;49m[\u001b[39m\"\u001b[39;49m\u001b[39mclient_email\u001b[39;49m\u001b[39m\"\u001b[39;49m, \u001b[39m\"\u001b[39;49m\u001b[39mtoken_uri\u001b[39;49m\u001b[39m\"\u001b[39;49m]\n\u001b[1;32m    243\u001b[0m     )\n\u001b[1;32m    244\u001b[0m     \u001b[39mreturn\u001b[39;00m \u001b[39mcls\u001b[39m\u001b[39m.\u001b[39m_from_signer_and_info(signer, info, \u001b[39m*\u001b[39m\u001b[39m*\u001b[39mkwargs)\n",
      "File \u001b[0;32m/home/gcp-templates/lib/python3.9/site-packages/google/auth/_service_account_info.py:82\u001b[0m, in \u001b[0;36mfrom_filename\u001b[0;34m(filename, require, use_rsa_signer)\u001b[0m\n\u001b[1;32m     80\u001b[0m \u001b[39mwith\u001b[39;00m io\u001b[39m.\u001b[39mopen(filename, \u001b[39m\"\u001b[39m\u001b[39mr\u001b[39m\u001b[39m\"\u001b[39m, encoding\u001b[39m=\u001b[39m\u001b[39m\"\u001b[39m\u001b[39mutf-8\u001b[39m\u001b[39m\"\u001b[39m) \u001b[39mas\u001b[39;00m json_file:\n\u001b[1;32m     81\u001b[0m     data \u001b[39m=\u001b[39m json\u001b[39m.\u001b[39mload(json_file)\n\u001b[0;32m---> 82\u001b[0m     \u001b[39mreturn\u001b[39;00m data, from_dict(data, require\u001b[39m=\u001b[39;49mrequire, use_rsa_signer\u001b[39m=\u001b[39;49muse_rsa_signer)\n",
      "File \u001b[0;32m/home/gcp-templates/lib/python3.9/site-packages/google/auth/_service_account_info.py:52\u001b[0m, in \u001b[0;36mfrom_dict\u001b[0;34m(data, require, use_rsa_signer)\u001b[0m\n\u001b[1;32m     49\u001b[0m missing \u001b[39m=\u001b[39m keys_needed\u001b[39m.\u001b[39mdifference(six\u001b[39m.\u001b[39miterkeys(data))\n\u001b[1;32m     51\u001b[0m \u001b[39mif\u001b[39;00m missing:\n\u001b[0;32m---> 52\u001b[0m     \u001b[39mraise\u001b[39;00m exceptions\u001b[39m.\u001b[39mMalformedError(\n\u001b[1;32m     53\u001b[0m         \u001b[39m\"\u001b[39m\u001b[39mService account info was not in the expected format, missing \u001b[39m\u001b[39m\"\u001b[39m\n\u001b[1;32m     54\u001b[0m         \u001b[39m\"\u001b[39m\u001b[39mfields \u001b[39m\u001b[39m{}\u001b[39;00m\u001b[39m.\u001b[39m\u001b[39m\"\u001b[39m\u001b[39m.\u001b[39mformat(\u001b[39m\"\u001b[39m\u001b[39m, \u001b[39m\u001b[39m\"\u001b[39m\u001b[39m.\u001b[39mjoin(missing))\n\u001b[1;32m     55\u001b[0m     )\n\u001b[1;32m     57\u001b[0m \u001b[39m# Create a signer.\u001b[39;00m\n\u001b[1;32m     58\u001b[0m \u001b[39mif\u001b[39;00m use_rsa_signer:\n",
      "\u001b[0;31mMalformedError\u001b[0m: Service account info was not in the expected format, missing fields client_email."
     ]
    }
   ],
   "source": [
    "from googleapiclient.discovery import build\n",
    "from googleapiclient.errors import HttpError\n",
    "\n",
    "credentials = service_account.Credentials.from_service_account_file(key_path) # If you're using local machine    \n",
    "scoped_credentials = credentials.with_scopes(config.SCOPES)    \n",
    "\n",
    "\n",
    "\n",
    "try:\n",
    "    service = build(\"drive\", \"v3\", credentials=scoped_credentials)\n",
    "    files = []\n",
    "    page_token = None\n",
    "    while True:\n",
    "        response = service.files().list(\n",
    "            spaces=\"drive\",\n",
    "            fields=\"nextPageToken, files(id, name)\",\n",
    "            pageToken=page_token).execute()\n",
    "        for file in response.get(\"files\", []):\n",
    "            print(f\"Found file: {file.get('name')}, {file.get('id')}\")\n",
    "        files.extend(response.get(\"files\", []))\n",
    "        page_token = response.get(\"nextPageToken\", None)\n",
    "        if page_token is None:\n",
    "            break\n",
    "except HttpError as error:\n",
    "    print(f\"An error occurred: {error}\")\n",
    "    files = None"
   ]
  },
  {
   "cell_type": "code",
   "execution_count": 30,
   "metadata": {},
   "outputs": [
    {
     "data": {
      "text/plain": [
       "[]"
      ]
     },
     "execution_count": 30,
     "metadata": {},
     "output_type": "execute_result"
    }
   ],
   "source": [
    "files"
   ]
  },
  {
   "cell_type": "code",
   "execution_count": 39,
   "metadata": {},
   "outputs": [
    {
     "ename": "RefreshError",
     "evalue": "The credentials do not contain the necessary fields need to refresh the access token. You must specify refresh_token, token_uri, client_id, and client_secret.",
     "output_type": "error",
     "traceback": [
      "\u001b[0;31m---------------------------------------------------------------------------\u001b[0m",
      "\u001b[0;31mRefreshError\u001b[0m                              Traceback (most recent call last)",
      "Cell \u001b[0;32mIn[39], line 6\u001b[0m\n\u001b[1;32m      4\u001b[0m service \u001b[39m=\u001b[39m build(\u001b[39m'\u001b[39m\u001b[39mdrive\u001b[39m\u001b[39m'\u001b[39m, \u001b[39m'\u001b[39m\u001b[39mv3\u001b[39m\u001b[39m'\u001b[39m, credentials\u001b[39m=\u001b[39mcredentials)\n\u001b[1;32m      5\u001b[0m \u001b[39m# Llama al API para listar los archivos\u001b[39;00m\n\u001b[0;32m----> 6\u001b[0m results \u001b[39m=\u001b[39m service\u001b[39m.\u001b[39;49mfiles()\u001b[39m.\u001b[39;49mlist(\n\u001b[1;32m      7\u001b[0m     pageSize\u001b[39m=\u001b[39;49m\u001b[39m10\u001b[39;49m, fields\u001b[39m=\u001b[39;49m\u001b[39m\"\u001b[39;49m\u001b[39mnextPageToken, files(id, name)\u001b[39;49m\u001b[39m\"\u001b[39;49m)\u001b[39m.\u001b[39;49mexecute()\n\u001b[1;32m      8\u001b[0m items \u001b[39m=\u001b[39m results\u001b[39m.\u001b[39mget(\u001b[39m'\u001b[39m\u001b[39mfiles\u001b[39m\u001b[39m'\u001b[39m, [])\n",
      "File \u001b[0;32m/home/gcp-templates/lib/python3.9/site-packages/googleapiclient/_helpers.py:130\u001b[0m, in \u001b[0;36mpositional.<locals>.positional_decorator.<locals>.positional_wrapper\u001b[0;34m(*args, **kwargs)\u001b[0m\n\u001b[1;32m    128\u001b[0m     \u001b[39melif\u001b[39;00m positional_parameters_enforcement \u001b[39m==\u001b[39m POSITIONAL_WARNING:\n\u001b[1;32m    129\u001b[0m         logger\u001b[39m.\u001b[39mwarning(message)\n\u001b[0;32m--> 130\u001b[0m \u001b[39mreturn\u001b[39;00m wrapped(\u001b[39m*\u001b[39;49margs, \u001b[39m*\u001b[39;49m\u001b[39m*\u001b[39;49mkwargs)\n",
      "File \u001b[0;32m/home/gcp-templates/lib/python3.9/site-packages/googleapiclient/http.py:923\u001b[0m, in \u001b[0;36mHttpRequest.execute\u001b[0;34m(self, http, num_retries)\u001b[0m\n\u001b[1;32m    920\u001b[0m     \u001b[39mself\u001b[39m\u001b[39m.\u001b[39mheaders[\u001b[39m\"\u001b[39m\u001b[39mcontent-length\u001b[39m\u001b[39m\"\u001b[39m] \u001b[39m=\u001b[39m \u001b[39mstr\u001b[39m(\u001b[39mlen\u001b[39m(\u001b[39mself\u001b[39m\u001b[39m.\u001b[39mbody))\n\u001b[1;32m    922\u001b[0m \u001b[39m# Handle retries for server-side errors.\u001b[39;00m\n\u001b[0;32m--> 923\u001b[0m resp, content \u001b[39m=\u001b[39m _retry_request(\n\u001b[1;32m    924\u001b[0m     http,\n\u001b[1;32m    925\u001b[0m     num_retries,\n\u001b[1;32m    926\u001b[0m     \u001b[39m\"\u001b[39;49m\u001b[39mrequest\u001b[39;49m\u001b[39m\"\u001b[39;49m,\n\u001b[1;32m    927\u001b[0m     \u001b[39mself\u001b[39;49m\u001b[39m.\u001b[39;49m_sleep,\n\u001b[1;32m    928\u001b[0m     \u001b[39mself\u001b[39;49m\u001b[39m.\u001b[39;49m_rand,\n\u001b[1;32m    929\u001b[0m     \u001b[39mstr\u001b[39;49m(\u001b[39mself\u001b[39;49m\u001b[39m.\u001b[39;49muri),\n\u001b[1;32m    930\u001b[0m     method\u001b[39m=\u001b[39;49m\u001b[39mstr\u001b[39;49m(\u001b[39mself\u001b[39;49m\u001b[39m.\u001b[39;49mmethod),\n\u001b[1;32m    931\u001b[0m     body\u001b[39m=\u001b[39;49m\u001b[39mself\u001b[39;49m\u001b[39m.\u001b[39;49mbody,\n\u001b[1;32m    932\u001b[0m     headers\u001b[39m=\u001b[39;49m\u001b[39mself\u001b[39;49m\u001b[39m.\u001b[39;49mheaders,\n\u001b[1;32m    933\u001b[0m )\n\u001b[1;32m    935\u001b[0m \u001b[39mfor\u001b[39;00m callback \u001b[39min\u001b[39;00m \u001b[39mself\u001b[39m\u001b[39m.\u001b[39mresponse_callbacks:\n\u001b[1;32m    936\u001b[0m     callback(resp)\n",
      "File \u001b[0;32m/home/gcp-templates/lib/python3.9/site-packages/googleapiclient/http.py:191\u001b[0m, in \u001b[0;36m_retry_request\u001b[0;34m(http, num_retries, req_type, sleep, rand, uri, method, *args, **kwargs)\u001b[0m\n\u001b[1;32m    189\u001b[0m \u001b[39mtry\u001b[39;00m:\n\u001b[1;32m    190\u001b[0m     exception \u001b[39m=\u001b[39m \u001b[39mNone\u001b[39;00m\n\u001b[0;32m--> 191\u001b[0m     resp, content \u001b[39m=\u001b[39m http\u001b[39m.\u001b[39;49mrequest(uri, method, \u001b[39m*\u001b[39;49margs, \u001b[39m*\u001b[39;49m\u001b[39m*\u001b[39;49mkwargs)\n\u001b[1;32m    192\u001b[0m \u001b[39m# Retry on SSL errors and socket timeout errors.\u001b[39;00m\n\u001b[1;32m    193\u001b[0m \u001b[39mexcept\u001b[39;00m _ssl_SSLError \u001b[39mas\u001b[39;00m ssl_error:\n",
      "File \u001b[0;32m/home/gcp-templates/lib/python3.9/site-packages/google_auth_httplib2.py:245\u001b[0m, in \u001b[0;36mAuthorizedHttp.request\u001b[0;34m(self, uri, method, body, headers, redirections, connection_type, **kwargs)\u001b[0m\n\u001b[1;32m    233\u001b[0m \u001b[39mif\u001b[39;00m (\n\u001b[1;32m    234\u001b[0m     response\u001b[39m.\u001b[39mstatus \u001b[39min\u001b[39;00m \u001b[39mself\u001b[39m\u001b[39m.\u001b[39m_refresh_status_codes\n\u001b[1;32m    235\u001b[0m     \u001b[39mand\u001b[39;00m _credential_refresh_attempt \u001b[39m<\u001b[39m \u001b[39mself\u001b[39m\u001b[39m.\u001b[39m_max_refresh_attempts\n\u001b[1;32m    236\u001b[0m ):\n\u001b[1;32m    238\u001b[0m     _LOGGER\u001b[39m.\u001b[39minfo(\n\u001b[1;32m    239\u001b[0m         \u001b[39m\"\u001b[39m\u001b[39mRefreshing credentials due to a \u001b[39m\u001b[39m%s\u001b[39;00m\u001b[39m response. Attempt \u001b[39m\u001b[39m%s\u001b[39;00m\u001b[39m/\u001b[39m\u001b[39m%s\u001b[39;00m\u001b[39m.\u001b[39m\u001b[39m\"\u001b[39m,\n\u001b[1;32m    240\u001b[0m         response\u001b[39m.\u001b[39mstatus,\n\u001b[1;32m    241\u001b[0m         _credential_refresh_attempt \u001b[39m+\u001b[39m \u001b[39m1\u001b[39m,\n\u001b[1;32m    242\u001b[0m         \u001b[39mself\u001b[39m\u001b[39m.\u001b[39m_max_refresh_attempts,\n\u001b[1;32m    243\u001b[0m     )\n\u001b[0;32m--> 245\u001b[0m     \u001b[39mself\u001b[39;49m\u001b[39m.\u001b[39;49mcredentials\u001b[39m.\u001b[39;49mrefresh(\u001b[39mself\u001b[39;49m\u001b[39m.\u001b[39;49m_request)\n\u001b[1;32m    247\u001b[0m     \u001b[39m# Restore the body's stream position if needed.\u001b[39;00m\n\u001b[1;32m    248\u001b[0m     \u001b[39mif\u001b[39;00m body_stream_position \u001b[39mis\u001b[39;00m \u001b[39mnot\u001b[39;00m \u001b[39mNone\u001b[39;00m:\n",
      "File \u001b[0;32m/home/gcp-templates/lib/python3.9/site-packages/google/oauth2/credentials.py:323\u001b[0m, in \u001b[0;36mCredentials.refresh\u001b[0;34m(self, request)\u001b[0m\n\u001b[1;32m    315\u001b[0m     \u001b[39mreturn\u001b[39;00m\n\u001b[1;32m    317\u001b[0m \u001b[39mif\u001b[39;00m (\n\u001b[1;32m    318\u001b[0m     \u001b[39mself\u001b[39m\u001b[39m.\u001b[39m_refresh_token \u001b[39mis\u001b[39;00m \u001b[39mNone\u001b[39;00m\n\u001b[1;32m    319\u001b[0m     \u001b[39mor\u001b[39;00m \u001b[39mself\u001b[39m\u001b[39m.\u001b[39m_token_uri \u001b[39mis\u001b[39;00m \u001b[39mNone\u001b[39;00m\n\u001b[1;32m    320\u001b[0m     \u001b[39mor\u001b[39;00m \u001b[39mself\u001b[39m\u001b[39m.\u001b[39m_client_id \u001b[39mis\u001b[39;00m \u001b[39mNone\u001b[39;00m\n\u001b[1;32m    321\u001b[0m     \u001b[39mor\u001b[39;00m \u001b[39mself\u001b[39m\u001b[39m.\u001b[39m_client_secret \u001b[39mis\u001b[39;00m \u001b[39mNone\u001b[39;00m\n\u001b[1;32m    322\u001b[0m ):\n\u001b[0;32m--> 323\u001b[0m     \u001b[39mraise\u001b[39;00m exceptions\u001b[39m.\u001b[39mRefreshError(\n\u001b[1;32m    324\u001b[0m         \u001b[39m\"\u001b[39m\u001b[39mThe credentials do not contain the necessary fields need to \u001b[39m\u001b[39m\"\u001b[39m\n\u001b[1;32m    325\u001b[0m         \u001b[39m\"\u001b[39m\u001b[39mrefresh the access token. You must specify refresh_token, \u001b[39m\u001b[39m\"\u001b[39m\n\u001b[1;32m    326\u001b[0m         \u001b[39m\"\u001b[39m\u001b[39mtoken_uri, client_id, and client_secret.\u001b[39m\u001b[39m\"\u001b[39m\n\u001b[1;32m    327\u001b[0m     )\n\u001b[1;32m    329\u001b[0m (\n\u001b[1;32m    330\u001b[0m     access_token,\n\u001b[1;32m    331\u001b[0m     refresh_token,\n\u001b[0;32m   (...)\u001b[0m\n\u001b[1;32m    343\u001b[0m     enable_reauth_refresh\u001b[39m=\u001b[39m\u001b[39mself\u001b[39m\u001b[39m.\u001b[39m_enable_reauth_refresh,\n\u001b[1;32m    344\u001b[0m )\n\u001b[1;32m    346\u001b[0m \u001b[39mself\u001b[39m\u001b[39m.\u001b[39mtoken \u001b[39m=\u001b[39m access_token\n",
      "\u001b[0;31mRefreshError\u001b[0m: The credentials do not contain the necessary fields need to refresh the access token. You must specify refresh_token, token_uri, client_id, and client_secret."
     ]
    }
   ],
   "source": [
    "import google.oauth2.credentials\n",
    "\n",
    "credentials = google.oauth2.credentials.Credentials(key_path)\n",
    "service = build('drive', 'v3', credentials=credentials)\n",
    "# Llama al API para listar los archivos\n",
    "results = service.files().list(\n",
    "    pageSize=10, fields=\"nextPageToken, files(id, name)\").execute()\n",
    "items = results.get('files', [])\n"
   ]
  },
  {
   "cell_type": "code",
   "execution_count": 38,
   "metadata": {},
   "outputs": [
    {
     "data": {
      "text/plain": [
       "<googleapiclient.discovery.Resource at 0x7f9538bcb310>"
      ]
     },
     "execution_count": 38,
     "metadata": {},
     "output_type": "execute_result"
    }
   ],
   "source": [
    "service"
   ]
  },
  {
   "cell_type": "code",
   "execution_count": 33,
   "metadata": {},
   "outputs": [
    {
     "ename": "AttributeError",
     "evalue": "type object 'Credentials' has no attribute 'from_service_account_file'",
     "output_type": "error",
     "traceback": [
      "\u001b[0;31m---------------------------------------------------------------------------\u001b[0m",
      "\u001b[0;31mAttributeError\u001b[0m                            Traceback (most recent call last)",
      "Cell \u001b[0;32mIn[33], line 13\u001b[0m\n\u001b[1;32m     11\u001b[0m creds \u001b[39m=\u001b[39m \u001b[39mNone\u001b[39;00m\n\u001b[1;32m     12\u001b[0m \u001b[39mif\u001b[39;00m os\u001b[39m.\u001b[39mpath\u001b[39m.\u001b[39mexists(credential_path):\n\u001b[0;32m---> 13\u001b[0m     creds \u001b[39m=\u001b[39m Credentials\u001b[39m.\u001b[39;49mfrom_service_account_file(credential_path)\n\u001b[1;32m     15\u001b[0m \u001b[39m# Construye el cliente de la API de Google Drive\u001b[39;00m\n\u001b[1;32m     16\u001b[0m service \u001b[39m=\u001b[39m build(\u001b[39m'\u001b[39m\u001b[39mdrive\u001b[39m\u001b[39m'\u001b[39m, \u001b[39m'\u001b[39m\u001b[39mv3\u001b[39m\u001b[39m'\u001b[39m, credentials\u001b[39m=\u001b[39mcreds)\n",
      "\u001b[0;31mAttributeError\u001b[0m: type object 'Credentials' has no attribute 'from_service_account_file'"
     ]
    }
   ],
   "source": [
    "import os\n",
    "import google.auth\n",
    "from google.oauth2.credentials import Credentials\n",
    "from googleapiclient.discovery import build\n",
    "\n",
    "# Path al archivo de credenciales\n",
    "key_path='/home/portfolio/GCP-Templates/cloud_function/from_drive_to_storage/function/kk.json'\n",
    "credential_path = key_path\n",
    "\n",
    "# Carga las credenciales desde el archivo\n",
    "creds = None\n",
    "if os.path.exists(credential_path):\n",
    "    creds = Credentials.from_service_account_file(credential_path)\n",
    "\n",
    "# Construye el cliente de la API de Google Drive\n",
    "service = build('drive', 'v3', credentials=creds)\n"
   ]
  },
  {
   "cell_type": "code",
   "execution_count": null,
   "metadata": {},
   "outputs": [],
   "source": [
    "# Llama al API para listar los archivos\n",
    "results = service.files().list(\n",
    "    pageSize=10, fields=\"nextPageToken, files(id, name)\").execute()\n",
    "items = results.get('files', [])\n",
    "\n",
    "# Imprime el resultado\n",
    "if not items:\n",
    "    print('No se encontraron archivos.')\n",
    "else:\n",
    "    print('Archivos:')\n",
    "    for item in items:\n",
    "        print(f'{item[\"name\"]} ({item[\"id\"]})')\n"
   ]
  }
 ],
 "metadata": {
  "kernelspec": {
   "display_name": "gcp-templates",
   "language": "python",
   "name": "python3"
  },
  "language_info": {
   "codemirror_mode": {
    "name": "ipython",
    "version": 3
   },
   "file_extension": ".py",
   "mimetype": "text/x-python",
   "name": "python",
   "nbconvert_exporter": "python",
   "pygments_lexer": "ipython3",
   "version": "3.9.2"
  },
  "orig_nbformat": 4,
  "vscode": {
   "interpreter": {
    "hash": "97909859aa075f4ea65c45bfba377766c0488a9b28eefde3dc34f775b7ceff0a"
   }
  }
 },
 "nbformat": 4,
 "nbformat_minor": 2
}
